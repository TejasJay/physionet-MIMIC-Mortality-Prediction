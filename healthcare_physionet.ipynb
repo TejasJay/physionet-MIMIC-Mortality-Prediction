{
 "cells": [
  {
   "cell_type": "markdown",
   "metadata": {
    "id": "bKMnY5U7LFVm"
   },
   "source": [
    "# Physionet - The impact of weekdays/weekend on Mortality Rate using MIMIC dataset\n"
   ]
  },
  {
   "cell_type": "markdown",
   "metadata": {
    "id": "nYPC-eLcLk_p"
   },
   "source": [
    "### importing all the necessary libraries"
   ]
  },
  {
   "cell_type": "code",
   "execution_count": 3,
   "metadata": {
    "id": "uWTv-zjgqeko"
   },
   "outputs": [],
   "source": [
    "# Data processing libraries\n",
    "import pandas as pd\n",
    "import numpy as np\n",
    "from datetime import datetime as dt\n",
    "import seaborn as sns\n",
    "import matplotlib.pyplot as plt\n",
    "import os\n",
    "from sklearn.preprocessing import StandardScaler\n",
    "from sklearn.compose import make_column_transformer\n",
    "from sklearn.preprocessing import OneHotEncoder, MinMaxScaler\n",
    "from sklearn.utils import resample\n",
    "from sklearn.model_selection import train_test_split, GridSearchCV\n",
    "from sklearn.decomposition import PCA\n",
    "from sklearn.metrics import confusion_matrix, ConfusionMatrixDisplay, accuracy_score, f1_score, precision_score, recall_score\n",
    "from sklearn.naive_bayes import GaussianNB\n",
    "from sklearn.linear_model import LogisticRegression, SGDClassifier\n",
    "from sklearn.svm import SVC\n",
    "from sklearn.neighbors import KNeighborsClassifier\n",
    "from sklearn.tree import DecisionTreeClassifier\n",
    "from sklearn.ensemble import RandomForestClassifier, GradientBoostingClassifier, VotingClassifier\n",
    "from sklearn.discriminant_analysis import LinearDiscriminantAnalysis\n",
    "\n",
    "# library to ignore warnings\n",
    "#import warnings\n",
    "#warnings.filterwarnings('ignore')"
   ]
  },
  {
   "cell_type": "code",
   "execution_count": 4,
   "metadata": {
    "id": "m3n4R-nJqvn8"
   },
   "outputs": [],
   "source": [
    "# Reading the dataset\n",
    "data = pd.read_csv(\"data.csv\")"
   ]
  },
  {
   "cell_type": "code",
   "execution_count": 5,
   "metadata": {
    "colab": {
     "base_uri": "https://localhost:8080/"
    },
    "id": "jO3VjV-fsbYb",
    "outputId": "2dc4ca7c-e7d0-427e-82b7-167ca7b2a3e2"
   },
   "outputs": [
    {
     "data": {
      "text/plain": [
       "Index(['subject_id', 'hadm_id', 'icustay_id', 'gender', 'admittime_hospital',\n",
       "       'dischtime_hospital', 'los_hospital', 'admission_age', 'ethnicity',\n",
       "       'hospital_expire_flag', 'intime_icu', 'outtime_icu', 'los_icu',\n",
       "       'first_careunit', 'admission_type', 'icustay_expire_flag', 'oasis',\n",
       "       'oasis_prob'],\n",
       "      dtype='object')"
      ]
     },
     "execution_count": 5,
     "metadata": {},
     "output_type": "execute_result"
    }
   ],
   "source": [
    "# checking for the different features \n",
    "data.columns"
   ]
  },
  {
   "cell_type": "markdown",
   "metadata": {
    "id": "I6RrEwvGMfRo"
   },
   "source": [
    "# Cleaning the Data"
   ]
  },
  {
   "cell_type": "code",
   "execution_count": 6,
   "metadata": {
    "colab": {
     "base_uri": "https://localhost:8080/"
    },
    "id": "5KdOvIy4sezF",
    "outputId": "0068578f-8475-492a-d28e-2a2457826209"
   },
   "outputs": [
    {
     "data": {
      "text/plain": [
       "subject_id              0\n",
       "hadm_id                 0\n",
       "icustay_id              0\n",
       "gender                  0\n",
       "admittime_hospital      0\n",
       "dischtime_hospital      0\n",
       "los_hospital            0\n",
       "admission_age           0\n",
       "ethnicity               0\n",
       "hospital_expire_flag    0\n",
       "intime_icu              0\n",
       "outtime_icu             2\n",
       "los_icu                 2\n",
       "first_careunit          0\n",
       "admission_type          0\n",
       "icustay_expire_flag     0\n",
       "oasis                   0\n",
       "oasis_prob              0\n",
       "dtype: int64"
      ]
     },
     "execution_count": 6,
     "metadata": {},
     "output_type": "execute_result"
    }
   ],
   "source": [
    "# Checking for Null values \n",
    "# only 2 rows have Null values hence dropping those 2 rows\n",
    "data.isna().sum()"
   ]
  },
  {
   "cell_type": "code",
   "execution_count": 7,
   "metadata": {
    "id": "kn1ypPArsiNy"
   },
   "outputs": [],
   "source": [
    "# dropping Null values\n",
    "data.dropna(inplace=True)"
   ]
  },
  {
   "cell_type": "code",
   "execution_count": 8,
   "metadata": {
    "colab": {
     "base_uri": "https://localhost:8080/"
    },
    "id": "5C9ruyGSspgh",
    "outputId": "5a61a8a5-b3f0-4d28-9b97-e33c90446c52"
   },
   "outputs": [
    {
     "data": {
      "text/plain": [
       "subject_id              0\n",
       "hadm_id                 0\n",
       "icustay_id              0\n",
       "gender                  0\n",
       "admittime_hospital      0\n",
       "dischtime_hospital      0\n",
       "los_hospital            0\n",
       "admission_age           0\n",
       "ethnicity               0\n",
       "hospital_expire_flag    0\n",
       "intime_icu              0\n",
       "outtime_icu             0\n",
       "los_icu                 0\n",
       "first_careunit          0\n",
       "admission_type          0\n",
       "icustay_expire_flag     0\n",
       "oasis                   0\n",
       "oasis_prob              0\n",
       "dtype: int64"
      ]
     },
     "execution_count": 8,
     "metadata": {},
     "output_type": "execute_result"
    }
   ],
   "source": [
    "# Now there are no Null values\n",
    "data.isna().sum()"
   ]
  },
  {
   "cell_type": "code",
   "execution_count": 9,
   "metadata": {
    "colab": {
     "base_uri": "https://localhost:8080/",
     "height": 320
    },
    "id": "kmMGtp_etA3z",
    "outputId": "0c6a312a-47fc-4eee-9bd3-a416d3a6d4c7"
   },
   "outputs": [
    {
     "data": {
      "text/html": [
       "<div>\n",
       "<style scoped>\n",
       "    .dataframe tbody tr th:only-of-type {\n",
       "        vertical-align: middle;\n",
       "    }\n",
       "\n",
       "    .dataframe tbody tr th {\n",
       "        vertical-align: top;\n",
       "    }\n",
       "\n",
       "    .dataframe thead th {\n",
       "        text-align: right;\n",
       "    }\n",
       "</style>\n",
       "<table border=\"1\" class=\"dataframe\">\n",
       "  <thead>\n",
       "    <tr style=\"text-align: right;\">\n",
       "      <th></th>\n",
       "      <th>subject_id</th>\n",
       "      <th>hadm_id</th>\n",
       "      <th>icustay_id</th>\n",
       "      <th>los_hospital</th>\n",
       "      <th>admission_age</th>\n",
       "      <th>hospital_expire_flag</th>\n",
       "      <th>los_icu</th>\n",
       "      <th>icustay_expire_flag</th>\n",
       "      <th>oasis</th>\n",
       "      <th>oasis_prob</th>\n",
       "    </tr>\n",
       "  </thead>\n",
       "  <tbody>\n",
       "    <tr>\n",
       "      <th>count</th>\n",
       "      <td>38556.000000</td>\n",
       "      <td>38556.000000</td>\n",
       "      <td>38556.000000</td>\n",
       "      <td>38556.000000</td>\n",
       "      <td>38556.000000</td>\n",
       "      <td>38556.000000</td>\n",
       "      <td>38556.000000</td>\n",
       "      <td>38556.000000</td>\n",
       "      <td>38556.000000</td>\n",
       "      <td>38556.000000</td>\n",
       "    </tr>\n",
       "    <tr>\n",
       "      <th>mean</th>\n",
       "      <td>38268.529412</td>\n",
       "      <td>150037.503839</td>\n",
       "      <td>250221.873638</td>\n",
       "      <td>9.853641</td>\n",
       "      <td>74.564011</td>\n",
       "      <td>0.114716</td>\n",
       "      <td>3.987395</td>\n",
       "      <td>0.082841</td>\n",
       "      <td>31.226398</td>\n",
       "      <td>0.144302</td>\n",
       "    </tr>\n",
       "    <tr>\n",
       "      <th>std</th>\n",
       "      <td>29376.214131</td>\n",
       "      <td>28945.614255</td>\n",
       "      <td>28914.344101</td>\n",
       "      <td>10.705100</td>\n",
       "      <td>55.116288</td>\n",
       "      <td>0.318683</td>\n",
       "      <td>6.018559</td>\n",
       "      <td>0.275645</td>\n",
       "      <td>8.962193</td>\n",
       "      <td>0.143488</td>\n",
       "    </tr>\n",
       "    <tr>\n",
       "      <th>min</th>\n",
       "      <td>3.000000</td>\n",
       "      <td>100001.000000</td>\n",
       "      <td>200003.000000</td>\n",
       "      <td>0.000000</td>\n",
       "      <td>16.000000</td>\n",
       "      <td>0.000000</td>\n",
       "      <td>0.000000</td>\n",
       "      <td>0.000000</td>\n",
       "      <td>3.000000</td>\n",
       "      <td>0.003042</td>\n",
       "    </tr>\n",
       "    <tr>\n",
       "      <th>25%</th>\n",
       "      <td>13982.500000</td>\n",
       "      <td>124927.250000</td>\n",
       "      <td>225239.750000</td>\n",
       "      <td>4.000000</td>\n",
       "      <td>52.000000</td>\n",
       "      <td>0.000000</td>\n",
       "      <td>1.000000</td>\n",
       "      <td>0.000000</td>\n",
       "      <td>25.000000</td>\n",
       "      <td>0.048012</td>\n",
       "    </tr>\n",
       "    <tr>\n",
       "      <th>50%</th>\n",
       "      <td>27913.500000</td>\n",
       "      <td>150095.000000</td>\n",
       "      <td>250278.000000</td>\n",
       "      <td>7.000000</td>\n",
       "      <td>66.000000</td>\n",
       "      <td>0.000000</td>\n",
       "      <td>2.000000</td>\n",
       "      <td>0.000000</td>\n",
       "      <td>31.000000</td>\n",
       "      <td>0.097783</td>\n",
       "    </tr>\n",
       "    <tr>\n",
       "      <th>75%</th>\n",
       "      <td>62967.250000</td>\n",
       "      <td>175223.250000</td>\n",
       "      <td>275288.500000</td>\n",
       "      <td>12.000000</td>\n",
       "      <td>78.000000</td>\n",
       "      <td>0.000000</td>\n",
       "      <td>4.000000</td>\n",
       "      <td>0.000000</td>\n",
       "      <td>37.000000</td>\n",
       "      <td>0.188911</td>\n",
       "    </tr>\n",
       "    <tr>\n",
       "      <th>max</th>\n",
       "      <td>99999.000000</td>\n",
       "      <td>199999.000000</td>\n",
       "      <td>299999.000000</td>\n",
       "      <td>295.000000</td>\n",
       "      <td>310.000000</td>\n",
       "      <td>1.000000</td>\n",
       "      <td>154.000000</td>\n",
       "      <td>1.000000</td>\n",
       "      <td>70.000000</td>\n",
       "      <td>0.939936</td>\n",
       "    </tr>\n",
       "  </tbody>\n",
       "</table>\n",
       "</div>"
      ],
      "text/plain": [
       "         subject_id        hadm_id     icustay_id  los_hospital  \\\n",
       "count  38556.000000   38556.000000   38556.000000  38556.000000   \n",
       "mean   38268.529412  150037.503839  250221.873638      9.853641   \n",
       "std    29376.214131   28945.614255   28914.344101     10.705100   \n",
       "min        3.000000  100001.000000  200003.000000      0.000000   \n",
       "25%    13982.500000  124927.250000  225239.750000      4.000000   \n",
       "50%    27913.500000  150095.000000  250278.000000      7.000000   \n",
       "75%    62967.250000  175223.250000  275288.500000     12.000000   \n",
       "max    99999.000000  199999.000000  299999.000000    295.000000   \n",
       "\n",
       "       admission_age  hospital_expire_flag       los_icu  icustay_expire_flag  \\\n",
       "count   38556.000000          38556.000000  38556.000000         38556.000000   \n",
       "mean       74.564011              0.114716      3.987395             0.082841   \n",
       "std        55.116288              0.318683      6.018559             0.275645   \n",
       "min        16.000000              0.000000      0.000000             0.000000   \n",
       "25%        52.000000              0.000000      1.000000             0.000000   \n",
       "50%        66.000000              0.000000      2.000000             0.000000   \n",
       "75%        78.000000              0.000000      4.000000             0.000000   \n",
       "max       310.000000              1.000000    154.000000             1.000000   \n",
       "\n",
       "              oasis    oasis_prob  \n",
       "count  38556.000000  38556.000000  \n",
       "mean      31.226398      0.144302  \n",
       "std        8.962193      0.143488  \n",
       "min        3.000000      0.003042  \n",
       "25%       25.000000      0.048012  \n",
       "50%       31.000000      0.097783  \n",
       "75%       37.000000      0.188911  \n",
       "max       70.000000      0.939936  "
      ]
     },
     "execution_count": 9,
     "metadata": {},
     "output_type": "execute_result"
    }
   ],
   "source": [
    "# Describing the statics of different features\n",
    "data.describe()"
   ]
  },
  {
   "cell_type": "code",
   "execution_count": 10,
   "metadata": {
    "colab": {
     "base_uri": "https://localhost:8080/"
    },
    "id": "frflPsWjsrNI",
    "outputId": "fcd02086-0a7a-4996-a041-92faff93fb0a"
   },
   "outputs": [
    {
     "name": "stdout",
     "output_type": "stream",
     "text": [
      "<class 'pandas.core.frame.DataFrame'>\n",
      "Int64Index: 38556 entries, 0 to 38557\n",
      "Data columns (total 18 columns):\n",
      " #   Column                Non-Null Count  Dtype  \n",
      "---  ------                --------------  -----  \n",
      " 0   subject_id            38556 non-null  int64  \n",
      " 1   hadm_id               38556 non-null  int64  \n",
      " 2   icustay_id            38556 non-null  int64  \n",
      " 3   gender                38556 non-null  object \n",
      " 4   admittime_hospital    38556 non-null  object \n",
      " 5   dischtime_hospital    38556 non-null  object \n",
      " 6   los_hospital          38556 non-null  int64  \n",
      " 7   admission_age         38556 non-null  int64  \n",
      " 8   ethnicity             38556 non-null  object \n",
      " 9   hospital_expire_flag  38556 non-null  int64  \n",
      " 10  intime_icu            38556 non-null  object \n",
      " 11  outtime_icu           38556 non-null  object \n",
      " 12  los_icu               38556 non-null  float64\n",
      " 13  first_careunit        38556 non-null  object \n",
      " 14  admission_type        38556 non-null  object \n",
      " 15  icustay_expire_flag   38556 non-null  int64  \n",
      " 16  oasis                 38556 non-null  int64  \n",
      " 17  oasis_prob            38556 non-null  float64\n",
      "dtypes: float64(2), int64(8), object(8)\n",
      "memory usage: 5.6+ MB\n"
     ]
    }
   ],
   "source": [
    "# Checking for the data type of the features\n",
    "data.info()"
   ]
  },
  {
   "cell_type": "markdown",
   "metadata": {
    "id": "TjeJ3gEvYCFS"
   },
   "source": [
    "# Data Preprocessing"
   ]
  },
  {
   "cell_type": "code",
   "execution_count": 11,
   "metadata": {
    "id": "qNVMYrE2tyTY"
   },
   "outputs": [],
   "source": [
    "# Converting the string type dates to datetime objects\n",
    "\n",
    "data['admittime_hospital'] = pd.to_datetime(data['admittime_hospital'])\n",
    "data['dischtime_hospital'] = pd.to_datetime(data['dischtime_hospital'])\n",
    "data['intime_icu'] = pd.to_datetime(data['intime_icu'])\n",
    "data['outtime_icu'] = pd.to_datetime(data['outtime_icu'])"
   ]
  },
  {
   "cell_type": "code",
   "execution_count": 12,
   "metadata": {
    "colab": {
     "base_uri": "https://localhost:8080/",
     "height": 313
    },
    "id": "XKoJ-Wxms-8e",
    "outputId": "8475aa02-4852-492c-9dcf-a940df0ef05e"
   },
   "outputs": [
    {
     "data": {
      "text/html": [
       "<div>\n",
       "<style scoped>\n",
       "    .dataframe tbody tr th:only-of-type {\n",
       "        vertical-align: middle;\n",
       "    }\n",
       "\n",
       "    .dataframe tbody tr th {\n",
       "        vertical-align: top;\n",
       "    }\n",
       "\n",
       "    .dataframe thead th {\n",
       "        text-align: right;\n",
       "    }\n",
       "</style>\n",
       "<table border=\"1\" class=\"dataframe\">\n",
       "  <thead>\n",
       "    <tr style=\"text-align: right;\">\n",
       "      <th></th>\n",
       "      <th>subject_id</th>\n",
       "      <th>hadm_id</th>\n",
       "      <th>icustay_id</th>\n",
       "      <th>gender</th>\n",
       "      <th>admittime_hospital</th>\n",
       "      <th>dischtime_hospital</th>\n",
       "      <th>los_hospital</th>\n",
       "      <th>admission_age</th>\n",
       "      <th>ethnicity</th>\n",
       "      <th>hospital_expire_flag</th>\n",
       "      <th>...</th>\n",
       "      <th>first_careunit</th>\n",
       "      <th>admission_type</th>\n",
       "      <th>icustay_expire_flag</th>\n",
       "      <th>oasis</th>\n",
       "      <th>oasis_prob</th>\n",
       "      <th>admitday_hospital</th>\n",
       "      <th>dischday_hospital</th>\n",
       "      <th>inday_icu</th>\n",
       "      <th>inday_icu_seq</th>\n",
       "      <th>outday_icu</th>\n",
       "    </tr>\n",
       "  </thead>\n",
       "  <tbody>\n",
       "    <tr>\n",
       "      <th>0</th>\n",
       "      <td>3</td>\n",
       "      <td>145834</td>\n",
       "      <td>211552</td>\n",
       "      <td>M</td>\n",
       "      <td>2101-10-20 19:08:00</td>\n",
       "      <td>2101-10-31 13:58:00</td>\n",
       "      <td>11</td>\n",
       "      <td>76</td>\n",
       "      <td>WHITE</td>\n",
       "      <td>0</td>\n",
       "      <td>...</td>\n",
       "      <td>MICU</td>\n",
       "      <td>EMERGENCY</td>\n",
       "      <td>0</td>\n",
       "      <td>57</td>\n",
       "      <td>0.748927</td>\n",
       "      <td>3</td>\n",
       "      <td>0</td>\n",
       "      <td>3</td>\n",
       "      <td>3</td>\n",
       "      <td>2</td>\n",
       "    </tr>\n",
       "    <tr>\n",
       "      <th>1</th>\n",
       "      <td>6</td>\n",
       "      <td>107064</td>\n",
       "      <td>228232</td>\n",
       "      <td>F</td>\n",
       "      <td>2175-05-30 07:15:00</td>\n",
       "      <td>2175-06-15 16:00:00</td>\n",
       "      <td>16</td>\n",
       "      <td>66</td>\n",
       "      <td>WHITE</td>\n",
       "      <td>0</td>\n",
       "      <td>...</td>\n",
       "      <td>SICU</td>\n",
       "      <td>ELECTIVE</td>\n",
       "      <td>0</td>\n",
       "      <td>11</td>\n",
       "      <td>0.008392</td>\n",
       "      <td>1</td>\n",
       "      <td>3</td>\n",
       "      <td>1</td>\n",
       "      <td>1</td>\n",
       "      <td>5</td>\n",
       "    </tr>\n",
       "    <tr>\n",
       "      <th>2</th>\n",
       "      <td>56</td>\n",
       "      <td>181711</td>\n",
       "      <td>275642</td>\n",
       "      <td>F</td>\n",
       "      <td>2104-01-02 02:01:00</td>\n",
       "      <td>2104-01-08 10:30:00</td>\n",
       "      <td>6</td>\n",
       "      <td>300</td>\n",
       "      <td>WHITE</td>\n",
       "      <td>1</td>\n",
       "      <td>...</td>\n",
       "      <td>SICU</td>\n",
       "      <td>EMERGENCY</td>\n",
       "      <td>0</td>\n",
       "      <td>52</td>\n",
       "      <td>0.611922</td>\n",
       "      <td>2</td>\n",
       "      <td>1</td>\n",
       "      <td>2</td>\n",
       "      <td>2</td>\n",
       "      <td>3</td>\n",
       "    </tr>\n",
       "    <tr>\n",
       "      <th>3</th>\n",
       "      <td>98</td>\n",
       "      <td>188606</td>\n",
       "      <td>216929</td>\n",
       "      <td>F</td>\n",
       "      <td>2137-04-02 08:00:00</td>\n",
       "      <td>2137-04-09 10:38:00</td>\n",
       "      <td>7</td>\n",
       "      <td>41</td>\n",
       "      <td>WHITE</td>\n",
       "      <td>0</td>\n",
       "      <td>...</td>\n",
       "      <td>SICU</td>\n",
       "      <td>ELECTIVE</td>\n",
       "      <td>0</td>\n",
       "      <td>11</td>\n",
       "      <td>0.008392</td>\n",
       "      <td>1</td>\n",
       "      <td>1</td>\n",
       "      <td>1</td>\n",
       "      <td>1</td>\n",
       "      <td>3</td>\n",
       "    </tr>\n",
       "    <tr>\n",
       "      <th>4</th>\n",
       "      <td>136</td>\n",
       "      <td>184644</td>\n",
       "      <td>203947</td>\n",
       "      <td>M</td>\n",
       "      <td>2103-05-09 07:15:00</td>\n",
       "      <td>2103-05-14 11:33:00</td>\n",
       "      <td>5</td>\n",
       "      <td>52</td>\n",
       "      <td>WHITE</td>\n",
       "      <td>0</td>\n",
       "      <td>...</td>\n",
       "      <td>SICU</td>\n",
       "      <td>ELECTIVE</td>\n",
       "      <td>0</td>\n",
       "      <td>8</td>\n",
       "      <td>0.005740</td>\n",
       "      <td>2</td>\n",
       "      <td>0</td>\n",
       "      <td>2</td>\n",
       "      <td>2</td>\n",
       "      <td>3</td>\n",
       "    </tr>\n",
       "  </tbody>\n",
       "</table>\n",
       "<p>5 rows × 23 columns</p>\n",
       "</div>"
      ],
      "text/plain": [
       "   subject_id  hadm_id  icustay_id gender  admittime_hospital  \\\n",
       "0           3   145834      211552      M 2101-10-20 19:08:00   \n",
       "1           6   107064      228232      F 2175-05-30 07:15:00   \n",
       "2          56   181711      275642      F 2104-01-02 02:01:00   \n",
       "3          98   188606      216929      F 2137-04-02 08:00:00   \n",
       "4         136   184644      203947      M 2103-05-09 07:15:00   \n",
       "\n",
       "   dischtime_hospital  los_hospital  admission_age ethnicity  \\\n",
       "0 2101-10-31 13:58:00            11             76     WHITE   \n",
       "1 2175-06-15 16:00:00            16             66     WHITE   \n",
       "2 2104-01-08 10:30:00             6            300     WHITE   \n",
       "3 2137-04-09 10:38:00             7             41     WHITE   \n",
       "4 2103-05-14 11:33:00             5             52     WHITE   \n",
       "\n",
       "   hospital_expire_flag  ... first_careunit admission_type  \\\n",
       "0                     0  ...           MICU      EMERGENCY   \n",
       "1                     0  ...           SICU       ELECTIVE   \n",
       "2                     1  ...           SICU      EMERGENCY   \n",
       "3                     0  ...           SICU       ELECTIVE   \n",
       "4                     0  ...           SICU       ELECTIVE   \n",
       "\n",
       "   icustay_expire_flag oasis oasis_prob  admitday_hospital  dischday_hospital  \\\n",
       "0                    0    57   0.748927                  3                  0   \n",
       "1                    0    11   0.008392                  1                  3   \n",
       "2                    0    52   0.611922                  2                  1   \n",
       "3                    0    11   0.008392                  1                  1   \n",
       "4                    0     8   0.005740                  2                  0   \n",
       "\n",
       "   inday_icu  inday_icu_seq  outday_icu  \n",
       "0          3              3           2  \n",
       "1          1              1           5  \n",
       "2          2              2           3  \n",
       "3          1              1           3  \n",
       "4          2              2           3  \n",
       "\n",
       "[5 rows x 23 columns]"
      ]
     },
     "execution_count": 12,
     "metadata": {},
     "output_type": "execute_result"
    }
   ],
   "source": [
    "# Converting the datetime features into days of the weeks features \n",
    "\n",
    "data['admitday_hospital'] = data.admittime_hospital.dt.dayofweek\n",
    "data['dischday_hospital'] = data.dischtime_hospital.dt.dayofweek\n",
    "data['inday_icu'] = data.intime_icu.dt.dayofweek\n",
    "data['inday_icu_seq'] = data.intime_icu.dt.dayofweek\n",
    "data['outday_icu'] = data.outtime_icu.dt.dayofweek\n",
    "data.head()"
   ]
  },
  {
   "cell_type": "code",
   "execution_count": 13,
   "metadata": {
    "colab": {
     "base_uri": "https://localhost:8080/"
    },
    "id": "CbE5I4mdtGo9",
    "outputId": "34e715fd-0eb3-40aa-dd4f-b8170980290c"
   },
   "outputs": [
    {
     "data": {
      "text/plain": [
       "4    6263\n",
       "1    6141\n",
       "0    6096\n",
       "2    5984\n",
       "3    5877\n",
       "5    4235\n",
       "6    3960\n",
       "Name: inday_icu, dtype: int64"
      ]
     },
     "execution_count": 13,
     "metadata": {},
     "output_type": "execute_result"
    }
   ],
   "source": [
    "data['inday_icu'].value_counts()"
   ]
  },
  {
   "cell_type": "code",
   "execution_count": 14,
   "metadata": {
    "colab": {
     "base_uri": "https://localhost:8080/"
    },
    "id": "9P8jcPARvGfE",
    "outputId": "d27239a0-2c99-4773-9975-330e3949d864"
   },
   "outputs": [
    {
     "data": {
      "text/plain": [
       "weekday    30361\n",
       "weekend     8195\n",
       "Name: inday_icu_wkd, dtype: int64"
      ]
     },
     "execution_count": 14,
     "metadata": {},
     "output_type": "execute_result"
    }
   ],
   "source": [
    "# creating weekday vs weekend column for icu_intime\n",
    "\n",
    "data['inday_icu_wkd'] = np.where(data.intime_icu.dt.weekday <= 4, \n",
    "                                 'weekday','weekend')\n",
    "data['inday_icu_wkd'].value_counts()"
   ]
  },
  {
   "cell_type": "code",
   "execution_count": 15,
   "metadata": {
    "colab": {
     "base_uri": "https://localhost:8080/"
    },
    "id": "6FIU6fmyvIVY",
    "outputId": "c15580bf-60b2-4186-8d04-2857e64495c5"
   },
   "outputs": [
    {
     "data": {
      "text/plain": [
       "Index(['subject_id', 'hadm_id', 'icustay_id', 'gender', 'admittime_hospital',\n",
       "       'dischtime_hospital', 'los_hospital', 'admission_age', 'ethnicity',\n",
       "       'hospital_expire_flag', 'intime_icu', 'outtime_icu', 'los_icu',\n",
       "       'first_careunit', 'admission_type', 'icustay_expire_flag', 'oasis',\n",
       "       'oasis_prob', 'admitday_hospital', 'dischday_hospital', 'inday_icu',\n",
       "       'inday_icu_seq', 'outday_icu', 'inday_icu_wkd'],\n",
       "      dtype='object')"
      ]
     },
     "execution_count": 15,
     "metadata": {},
     "output_type": "execute_result"
    }
   ],
   "source": [
    "data.columns"
   ]
  },
  {
   "cell_type": "markdown",
   "metadata": {
    "id": "eYCvDX-KYN4O"
   },
   "source": [
    "# Data Visualization"
   ]
  },
  {
   "cell_type": "code",
   "execution_count": 16,
   "metadata": {
    "colab": {
     "base_uri": "https://localhost:8080/",
     "height": 300
    },
    "id": "3t3-bzYjvf-R",
    "outputId": "8052b4bb-c3f7-4f15-e494-ecfab8f48d76"
   },
   "outputs": [
    {
     "data": {
      "text/html": [
       "<div>\n",
       "<style scoped>\n",
       "    .dataframe tbody tr th:only-of-type {\n",
       "        vertical-align: middle;\n",
       "    }\n",
       "\n",
       "    .dataframe tbody tr th {\n",
       "        vertical-align: top;\n",
       "    }\n",
       "\n",
       "    .dataframe thead th {\n",
       "        text-align: right;\n",
       "    }\n",
       "</style>\n",
       "<table border=\"1\" class=\"dataframe\">\n",
       "  <thead>\n",
       "    <tr style=\"text-align: right;\">\n",
       "      <th>admission_type</th>\n",
       "      <th>ELECTIVE</th>\n",
       "      <th>EMERGENCY</th>\n",
       "      <th>URGENT</th>\n",
       "    </tr>\n",
       "    <tr>\n",
       "      <th>inday_icu_seq</th>\n",
       "      <th></th>\n",
       "      <th></th>\n",
       "      <th></th>\n",
       "    </tr>\n",
       "  </thead>\n",
       "  <tbody>\n",
       "    <tr>\n",
       "      <th>0</th>\n",
       "      <td>0.020553</td>\n",
       "      <td>0.124413</td>\n",
       "      <td>0.137931</td>\n",
       "    </tr>\n",
       "    <tr>\n",
       "      <th>1</th>\n",
       "      <td>0.019350</td>\n",
       "      <td>0.130315</td>\n",
       "      <td>0.082759</td>\n",
       "    </tr>\n",
       "    <tr>\n",
       "      <th>2</th>\n",
       "      <td>0.026549</td>\n",
       "      <td>0.127391</td>\n",
       "      <td>0.106383</td>\n",
       "    </tr>\n",
       "    <tr>\n",
       "      <th>3</th>\n",
       "      <td>0.027027</td>\n",
       "      <td>0.133137</td>\n",
       "      <td>0.114504</td>\n",
       "    </tr>\n",
       "    <tr>\n",
       "      <th>4</th>\n",
       "      <td>0.026575</td>\n",
       "      <td>0.126612</td>\n",
       "      <td>0.093023</td>\n",
       "    </tr>\n",
       "    <tr>\n",
       "      <th>5</th>\n",
       "      <td>0.080247</td>\n",
       "      <td>0.137072</td>\n",
       "      <td>0.162896</td>\n",
       "    </tr>\n",
       "    <tr>\n",
       "      <th>6</th>\n",
       "      <td>0.089109</td>\n",
       "      <td>0.146971</td>\n",
       "      <td>0.123596</td>\n",
       "    </tr>\n",
       "  </tbody>\n",
       "</table>\n",
       "</div>"
      ],
      "text/plain": [
       "admission_type  ELECTIVE  EMERGENCY    URGENT\n",
       "inday_icu_seq                                \n",
       "0               0.020553   0.124413  0.137931\n",
       "1               0.019350   0.130315  0.082759\n",
       "2               0.026549   0.127391  0.106383\n",
       "3               0.027027   0.133137  0.114504\n",
       "4               0.026575   0.126612  0.093023\n",
       "5               0.080247   0.137072  0.162896\n",
       "6               0.089109   0.146971  0.123596"
      ]
     },
     "execution_count": 16,
     "metadata": {},
     "output_type": "execute_result"
    }
   ],
   "source": [
    "# Pivot data to summarise by day\n",
    "\n",
    "dat_dow = data.groupby(['admission_type',\n",
    "                        'inday_icu_seq'])['hospital_expire_flag'].mean().reset_index()\n",
    "\n",
    "dat_dow = dat_dow.pivot(index='inday_icu_seq', \n",
    "                        columns='admission_type', values='hospital_expire_flag')\n",
    "\n",
    "dat_dow"
   ]
  },
  {
   "cell_type": "code",
   "execution_count": 17,
   "metadata": {
    "colab": {
     "base_uri": "https://localhost:8080/",
     "height": 297
    },
    "id": "rQ708MaVvkDY",
    "outputId": "6bb15157-34e1-4b66-cd98-1ce1153ca2b5"
   },
   "outputs": [
    {
     "data": {
      "text/plain": [
       "Text(0, 0.5, 'Hospital mortality rate')"
      ]
     },
     "execution_count": 17,
     "metadata": {},
     "output_type": "execute_result"
    },
    {
     "data": {
      "image/png": "[encoded data removed]",
      "text/plain": [
       "<Figure size 432x288 with 1 Axes>"
      ]
     },
     "metadata": {
      "needs_background": "light"
     },
     "output_type": "display_data"
    }
   ],
   "source": [
    "# day_map = {0:'Mon', 1:'Tue', 2:'Wed', 3:'Thu', 4:'Fri', 5:'Sat', 6:'Sun'}\n",
    "ax = dat_dow.plot()\n",
    "ax.set_ylabel(\"Hospital mortality rate\")"
   ]
  },
  {
   "cell_type": "code",
   "execution_count": 18,
   "metadata": {
    "colab": {
     "base_uri": "https://localhost:8080/",
     "height": 143
    },
    "id": "ghMejFxDvmQT",
    "outputId": "9136d6fb-5059-4bec-8159-7f4b106f6365"
   },
   "outputs": [
    {
     "data": {
      "text/html": [
       "<div>\n",
       "<style scoped>\n",
       "    .dataframe tbody tr th:only-of-type {\n",
       "        vertical-align: middle;\n",
       "    }\n",
       "\n",
       "    .dataframe tbody tr th {\n",
       "        vertical-align: top;\n",
       "    }\n",
       "\n",
       "    .dataframe thead th {\n",
       "        text-align: right;\n",
       "    }\n",
       "</style>\n",
       "<table border=\"1\" class=\"dataframe\">\n",
       "  <thead>\n",
       "    <tr style=\"text-align: right;\">\n",
       "      <th>admission_type</th>\n",
       "      <th>ELECTIVE</th>\n",
       "      <th>EMERGENCY</th>\n",
       "      <th>URGENT</th>\n",
       "    </tr>\n",
       "    <tr>\n",
       "      <th>inday_icu_wkd</th>\n",
       "      <th></th>\n",
       "      <th></th>\n",
       "      <th></th>\n",
       "    </tr>\n",
       "  </thead>\n",
       "  <tbody>\n",
       "    <tr>\n",
       "      <th>weekday</th>\n",
       "      <td>0.023732</td>\n",
       "      <td>0.128359</td>\n",
       "      <td>0.107091</td>\n",
       "    </tr>\n",
       "    <tr>\n",
       "      <th>weekend</th>\n",
       "      <td>0.083650</td>\n",
       "      <td>0.141909</td>\n",
       "      <td>0.145363</td>\n",
       "    </tr>\n",
       "  </tbody>\n",
       "</table>\n",
       "</div>"
      ],
      "text/plain": [
       "admission_type  ELECTIVE  EMERGENCY    URGENT\n",
       "inday_icu_wkd                                \n",
       "weekday         0.023732   0.128359  0.107091\n",
       "weekend         0.083650   0.141909  0.145363"
      ]
     },
     "execution_count": 18,
     "metadata": {},
     "output_type": "execute_result"
    }
   ],
   "source": [
    "dat_wkd = data.groupby(['admission_type','inday_icu_wkd'])['hospital_expire_flag'].mean().reset_index()\n",
    "dat_wkd = dat_wkd.pivot(index='inday_icu_wkd', columns='admission_type', values='hospital_expire_flag')\n",
    "dat_wkd.head()"
   ]
  },
  {
   "cell_type": "code",
   "execution_count": 19,
   "metadata": {
    "colab": {
     "base_uri": "https://localhost:8080/",
     "height": 297
    },
    "id": "qX-PiEcVvn9W",
    "outputId": "69a4a2c0-f439-4ee1-94b2-8604d8c032d6"
   },
   "outputs": [
    {
     "data": {
      "text/plain": [
       "Text(0, 0.5, 'Hospital mortality rate')"
      ]
     },
     "execution_count": 19,
     "metadata": {},
     "output_type": "execute_result"
    },
    {
     "data": {
      "image/png": "[encoded data removed]",
      "text/plain": [
       "<Figure size 432x288 with 1 Axes>"
      ]
     },
     "metadata": {
      "needs_background": "light"
     },
     "output_type": "display_data"
    }
   ],
   "source": [
    "ax = dat_wkd.plot()\n",
    "ax.set_ylabel(\"Hospital mortality rate\")"
   ]
  },
  {
   "cell_type": "code",
   "execution_count": 20,
   "metadata": {
    "colab": {
     "base_uri": "https://localhost:8080/",
     "height": 974
    },
    "id": "JSWYzXQJvpnp",
    "outputId": "772ee4c7-4ce6-4aca-f592-20ac3ea9bde9"
   },
   "outputs": [
    {
     "data": {
      "text/plain": [
       "(15.5, -0.5)"
      ]
     },
     "execution_count": 20,
     "metadata": {},
     "output_type": "execute_result"
    },
    {
     "data": {
      "image/png": "[encoded data removed]",
      "text/plain": [
       "<Figure size 1080x1080 with 2 Axes>"
      ]
     },
     "metadata": {
      "needs_background": "light"
     },
     "output_type": "display_data"
    }
   ],
   "source": [
    "# Perform Correlation plot using correlation matrix\n",
    "corr_matrix = data.corr()\n",
    "fig, ax = plt.subplots(figsize=(15, 15))\n",
    "ax = sns.heatmap(corr_matrix,\n",
    "                 annot=True,\n",
    "                 linewidths=0.5,\n",
    "                 fmt=\".2f\",\n",
    "                 cmap=\"YlGnBu\");\n",
    "bottom, top = ax.get_ylim()\n",
    "ax.set_ylim(bottom + 0.5, top - 0.5)"
   ]
  },
  {
   "cell_type": "code",
   "execution_count": 21,
   "metadata": {
    "colab": {
     "base_uri": "https://localhost:8080/",
     "height": 281
    },
    "id": "4Ixt_9ZpsYQf",
    "outputId": "726af1c8-bd82-42ea-b70d-b8e483105971"
   },
   "outputs": [
    {
     "data": {
      "image/png": "[encoded data removed]",
      "text/plain": [
       "<Figure size 432x288 with 1 Axes>"
      ]
     },
     "metadata": {
      "needs_background": "light"
     },
     "output_type": "display_data"
    }
   ],
   "source": [
    "#Number of Expiries\n",
    "\n",
    "fig, axs = plt.subplots(1,1)\n",
    "\n",
    "axs.set_title(\"hospital_expire_flag\")\n",
    "TF = [\"Expired\",\"Not Expired\"]\n",
    "TF_count = [data['hospital_expire_flag'].value_counts()[1],data['hospital_expire_flag'].value_counts()[0]]\n",
    "axs.bar(TF,TF_count)\n",
    "\n",
    "plt.show()"
   ]
  },
  {
   "cell_type": "code",
   "execution_count": 22,
   "metadata": {
    "id": "xLXOLh1euKUC"
   },
   "outputs": [],
   "source": [
    "# Expired\n",
    "dataset_e = data[data.hospital_expire_flag==1]\n",
    "# Not Expired\n",
    "dataset_ne = data[data.hospital_expire_flag==0]"
   ]
  },
  {
   "cell_type": "code",
   "execution_count": 23,
   "metadata": {
    "colab": {
     "base_uri": "https://localhost:8080/",
     "height": 370
    },
    "id": "EXEDsFHAtr0f",
    "outputId": "e164fa83-0a80-4d24-daa4-fab3b7359315"
   },
   "outputs": [
    {
     "name": "stderr",
     "output_type": "stream",
     "text": [
      "C:\\Users\\tejas\\anaconda3\\lib\\site-packages\\seaborn\\_decorators.py:36: FutureWarning: Pass the following variable as a keyword arg: x. From version 0.12, the only valid positional argument will be `data`, and passing other arguments without an explicit keyword will result in an error or misinterpretation.\n",
      "  warnings.warn(\n"
     ]
    },
    {
     "data": {
      "text/plain": [
       "Text(0.5, 1.0, 'Number of Expiries based on day of the week w.r.t the day of admition')"
      ]
     },
     "execution_count": 23,
     "metadata": {},
     "output_type": "execute_result"
    },
    {
     "data": {
      "image/png": "[encoded data removed]",
      "text/plain": [
       "<Figure size 936x288 with 1 Axes>"
      ]
     },
     "metadata": {
      "needs_background": "light"
     },
     "output_type": "display_data"
    }
   ],
   "source": [
    "# Number of Expiries based on day of the week w.r.t the day of admition\n",
    "\n",
    "plt.figure(figsize=(13, 4))\n",
    "sns.countplot(dataset_e.admitday_hospital.dropna(), order = data.admitday_hospital.value_counts().index);\n",
    "plt.title('Number of Expiries based on day of the week w.r.t the day of admition', fontsize = 15)"
   ]
  },
  {
   "cell_type": "code",
   "execution_count": 24,
   "metadata": {
    "colab": {
     "base_uri": "https://localhost:8080/",
     "height": 370
    },
    "id": "4NoX552yu62z",
    "outputId": "752fa274-f310-4f1a-835b-1d696c3daed2"
   },
   "outputs": [
    {
     "name": "stderr",
     "output_type": "stream",
     "text": [
      "C:\\Users\\tejas\\anaconda3\\lib\\site-packages\\seaborn\\_decorators.py:36: FutureWarning: Pass the following variable as a keyword arg: x. From version 0.12, the only valid positional argument will be `data`, and passing other arguments without an explicit keyword will result in an error or misinterpretation.\n",
      "  warnings.warn(\n"
     ]
    },
    {
     "data": {
      "text/plain": [
       "Text(0.5, 1.0, 'Number of Non Expiries based on day of the week w.r.t the day of admition')"
      ]
     },
     "execution_count": 24,
     "metadata": {},
     "output_type": "execute_result"
    },
    {
     "data": {
      "image/png": "[encoded data removed]",
      "text/plain": [
       "<Figure size 936x288 with 1 Axes>"
      ]
     },
     "metadata": {
      "needs_background": "light"
     },
     "output_type": "display_data"
    }
   ],
   "source": [
    "# Number of Non Expiries based on day of the week w.r.t the day of admition\n",
    "\n",
    "plt.figure(figsize=(13, 4))\n",
    "sns.countplot(dataset_ne.admitday_hospital.dropna(), order = data.admitday_hospital.value_counts().index);\n",
    "plt.title('Number of Non Expiries based on day of the week w.r.t the day of admition', fontsize = 15)"
   ]
  },
  {
   "cell_type": "code",
   "execution_count": 25,
   "metadata": {
    "colab": {
     "base_uri": "https://localhost:8080/",
     "height": 370
    },
    "id": "AtfoFe_hvJqJ",
    "outputId": "418e91a6-1035-4605-841e-6729a92e5ad1"
   },
   "outputs": [
    {
     "name": "stderr",
     "output_type": "stream",
     "text": [
      "C:\\Users\\tejas\\anaconda3\\lib\\site-packages\\seaborn\\_decorators.py:36: FutureWarning: Pass the following variable as a keyword arg: x. From version 0.12, the only valid positional argument will be `data`, and passing other arguments without an explicit keyword will result in an error or misinterpretation.\n",
      "  warnings.warn(\n"
     ]
    },
    {
     "data": {
      "text/plain": [
       "Text(0.5, 1.0, 'Number of Expiries based on day of the week w.r.t the day of discharge')"
      ]
     },
     "execution_count": 25,
     "metadata": {},
     "output_type": "execute_result"
    },
    {
     "data": {
      "image/png": "[encoded data removed]",
      "text/plain": [
       "<Figure size 936x288 with 1 Axes>"
      ]
     },
     "metadata": {
      "needs_background": "light"
     },
     "output_type": "display_data"
    }
   ],
   "source": [
    "# Number of Expiries based on day of the week w.r.t the day of discharge\n",
    "\n",
    "plt.figure(figsize=(13, 4))\n",
    "sns.countplot(dataset_e.dischday_hospital.dropna(), order = data.dischday_hospital.value_counts().index);\n",
    "plt.title('Number of Expiries based on day of the week w.r.t the day of discharge', fontsize = 15)"
   ]
  },
  {
   "cell_type": "code",
   "execution_count": 26,
   "metadata": {
    "colab": {
     "base_uri": "https://localhost:8080/",
     "height": 370
    },
    "id": "TYTr1hHSvJ4F",
    "outputId": "e18d7797-1f5a-4167-9fbb-ae343f584d74"
   },
   "outputs": [
    {
     "name": "stderr",
     "output_type": "stream",
     "text": [
      "C:\\Users\\tejas\\anaconda3\\lib\\site-packages\\seaborn\\_decorators.py:36: FutureWarning: Pass the following variable as a keyword arg: x. From version 0.12, the only valid positional argument will be `data`, and passing other arguments without an explicit keyword will result in an error or misinterpretation.\n",
      "  warnings.warn(\n"
     ]
    },
    {
     "data": {
      "text/plain": [
       "Text(0.5, 1.0, 'Number of non Expiries based on day of the week w.r.t the day of discharge')"
      ]
     },
     "execution_count": 26,
     "metadata": {},
     "output_type": "execute_result"
    },
    {
     "data": {
      "image/png": "[encoded data removed]",
      "text/plain": [
       "<Figure size 936x288 with 1 Axes>"
      ]
     },
     "metadata": {
      "needs_background": "light"
     },
     "output_type": "display_data"
    }
   ],
   "source": [
    "# Number of non Expiries based on day of the week w.r.t the day of discharge\n",
    "\n",
    "plt.figure(figsize=(13, 4))\n",
    "sns.countplot(dataset_ne.dischday_hospital.dropna(), order = data.dischday_hospital.value_counts().index);\n",
    "plt.title('Number of non Expiries based on day of the week w.r.t the day of discharge', fontsize = 15)"
   ]
  },
  {
   "cell_type": "code",
   "execution_count": null,
   "metadata": {
    "id": "AJF_f3idwoXs"
   },
   "outputs": [],
   "source": []
  },
  {
   "cell_type": "code",
   "execution_count": 27,
   "metadata": {
    "colab": {
     "base_uri": "https://localhost:8080/",
     "height": 425
    },
    "id": "RkJxNbSKvtHu",
    "outputId": "5ce2c749-5d96-482f-d09d-0e73ffaf278d"
   },
   "outputs": [
    {
     "name": "stderr",
     "output_type": "stream",
     "text": [
      "C:\\Users\\tejas\\anaconda3\\lib\\site-packages\\seaborn\\_decorators.py:36: FutureWarning: Pass the following variable as a keyword arg: x. From version 0.12, the only valid positional argument will be `data`, and passing other arguments without an explicit keyword will result in an error or misinterpretation.\n",
      "  warnings.warn(\n"
     ]
    },
    {
     "data": {
      "text/plain": [
       "Text(0.5, 1.0, 'Number of Expiries')"
      ]
     },
     "execution_count": 27,
     "metadata": {},
     "output_type": "execute_result"
    },
    {
     "data": {
      "image/png": "[encoded data removed]",
      "text/plain": [
       "<Figure size 504x360 with 1 Axes>"
      ]
     },
     "metadata": {
      "needs_background": "light"
     },
     "output_type": "display_data"
    }
   ],
   "source": [
    "# patients who were expired\n",
    "\n",
    "plt.figure(figsize=(7, 5))\n",
    "sns.countplot(dataset_e.inday_icu_wkd.dropna(), order = data.inday_icu_wkd.value_counts().index);\n",
    "plt.title('Number of Expiries', fontsize = 15)"
   ]
  },
  {
   "cell_type": "code",
   "execution_count": 28,
   "metadata": {
    "colab": {
     "base_uri": "https://localhost:8080/",
     "height": 425
    },
    "id": "k5-q7fJcwBGm",
    "outputId": "ff7b3d9c-59b1-446b-fa8b-ffc795c35881"
   },
   "outputs": [
    {
     "name": "stderr",
     "output_type": "stream",
     "text": [
      "C:\\Users\\tejas\\anaconda3\\lib\\site-packages\\seaborn\\_decorators.py:36: FutureWarning: Pass the following variable as a keyword arg: x. From version 0.12, the only valid positional argument will be `data`, and passing other arguments without an explicit keyword will result in an error or misinterpretation.\n",
      "  warnings.warn(\n"
     ]
    },
    {
     "data": {
      "text/plain": [
       "Text(0.5, 1.0, 'Number of non Expiries')"
      ]
     },
     "execution_count": 28,
     "metadata": {},
     "output_type": "execute_result"
    },
    {
     "data": {
      "image/png": "[encoded data removed]",
      "text/plain": [
       "<Figure size 504x360 with 1 Axes>"
      ]
     },
     "metadata": {
      "needs_background": "light"
     },
     "output_type": "display_data"
    }
   ],
   "source": [
    "# patients who were not expired\n",
    "\n",
    "plt.figure(figsize=(7, 5))\n",
    "sns.countplot(dataset_ne.inday_icu_wkd.dropna(), order = data.inday_icu_wkd.value_counts().index);\n",
    "plt.title('Number of non Expiries', fontsize = 15)"
   ]
  },
  {
   "cell_type": "markdown",
   "metadata": {
    "id": "HBeiZ_d0zCwT"
   },
   "source": [
    "#### **From the above plots we can see that the target feature is imbalanced. Saturday and Sunday ( 0 and 6 in the plots ) represent the number of admits and discharges which are comparitively less when compared to weekdays. Hence, it makes sense that the number of expiries and non expiries are less during the weekends when compared to the weekday**"
   ]
  },
  {
   "cell_type": "code",
   "execution_count": 29,
   "metadata": {
    "id": "MdmX-HoGv2PN"
   },
   "outputs": [],
   "source": [
    "### dropping the columns that are highly correlated\n",
    "\n",
    "data.drop(columns=['oasis_prob', 'inday_icu_seq'], inplace=True, axis=1)"
   ]
  },
  {
   "cell_type": "code",
   "execution_count": 30,
   "metadata": {
    "colab": {
     "base_uri": "https://localhost:8080/",
     "height": 313
    },
    "id": "1MQOwfH0w4a0",
    "outputId": "739df991-5f0f-4a1d-cee7-78f4a03b63fe"
   },
   "outputs": [
    {
     "data": {
      "text/html": [
       "<div>\n",
       "<style scoped>\n",
       "    .dataframe tbody tr th:only-of-type {\n",
       "        vertical-align: middle;\n",
       "    }\n",
       "\n",
       "    .dataframe tbody tr th {\n",
       "        vertical-align: top;\n",
       "    }\n",
       "\n",
       "    .dataframe thead th {\n",
       "        text-align: right;\n",
       "    }\n",
       "</style>\n",
       "<table border=\"1\" class=\"dataframe\">\n",
       "  <thead>\n",
       "    <tr style=\"text-align: right;\">\n",
       "      <th></th>\n",
       "      <th>subject_id</th>\n",
       "      <th>hadm_id</th>\n",
       "      <th>icustay_id</th>\n",
       "      <th>gender</th>\n",
       "      <th>admittime_hospital</th>\n",
       "      <th>dischtime_hospital</th>\n",
       "      <th>los_hospital</th>\n",
       "      <th>admission_age</th>\n",
       "      <th>ethnicity</th>\n",
       "      <th>hospital_expire_flag</th>\n",
       "      <th>...</th>\n",
       "      <th>los_icu</th>\n",
       "      <th>first_careunit</th>\n",
       "      <th>admission_type</th>\n",
       "      <th>icustay_expire_flag</th>\n",
       "      <th>oasis</th>\n",
       "      <th>admitday_hospital</th>\n",
       "      <th>dischday_hospital</th>\n",
       "      <th>inday_icu</th>\n",
       "      <th>outday_icu</th>\n",
       "      <th>inday_icu_wkd</th>\n",
       "    </tr>\n",
       "  </thead>\n",
       "  <tbody>\n",
       "    <tr>\n",
       "      <th>0</th>\n",
       "      <td>3</td>\n",
       "      <td>145834</td>\n",
       "      <td>211552</td>\n",
       "      <td>M</td>\n",
       "      <td>2101-10-20 19:08:00</td>\n",
       "      <td>2101-10-31 13:58:00</td>\n",
       "      <td>11</td>\n",
       "      <td>76</td>\n",
       "      <td>WHITE</td>\n",
       "      <td>0</td>\n",
       "      <td>...</td>\n",
       "      <td>6.0</td>\n",
       "      <td>MICU</td>\n",
       "      <td>EMERGENCY</td>\n",
       "      <td>0</td>\n",
       "      <td>57</td>\n",
       "      <td>3</td>\n",
       "      <td>0</td>\n",
       "      <td>3</td>\n",
       "      <td>2</td>\n",
       "      <td>weekday</td>\n",
       "    </tr>\n",
       "    <tr>\n",
       "      <th>1</th>\n",
       "      <td>6</td>\n",
       "      <td>107064</td>\n",
       "      <td>228232</td>\n",
       "      <td>F</td>\n",
       "      <td>2175-05-30 07:15:00</td>\n",
       "      <td>2175-06-15 16:00:00</td>\n",
       "      <td>16</td>\n",
       "      <td>66</td>\n",
       "      <td>WHITE</td>\n",
       "      <td>0</td>\n",
       "      <td>...</td>\n",
       "      <td>4.0</td>\n",
       "      <td>SICU</td>\n",
       "      <td>ELECTIVE</td>\n",
       "      <td>0</td>\n",
       "      <td>11</td>\n",
       "      <td>1</td>\n",
       "      <td>3</td>\n",
       "      <td>1</td>\n",
       "      <td>5</td>\n",
       "      <td>weekday</td>\n",
       "    </tr>\n",
       "    <tr>\n",
       "      <th>2</th>\n",
       "      <td>56</td>\n",
       "      <td>181711</td>\n",
       "      <td>275642</td>\n",
       "      <td>F</td>\n",
       "      <td>2104-01-02 02:01:00</td>\n",
       "      <td>2104-01-08 10:30:00</td>\n",
       "      <td>6</td>\n",
       "      <td>300</td>\n",
       "      <td>WHITE</td>\n",
       "      <td>1</td>\n",
       "      <td>...</td>\n",
       "      <td>1.0</td>\n",
       "      <td>SICU</td>\n",
       "      <td>EMERGENCY</td>\n",
       "      <td>0</td>\n",
       "      <td>52</td>\n",
       "      <td>2</td>\n",
       "      <td>1</td>\n",
       "      <td>2</td>\n",
       "      <td>3</td>\n",
       "      <td>weekday</td>\n",
       "    </tr>\n",
       "    <tr>\n",
       "      <th>3</th>\n",
       "      <td>98</td>\n",
       "      <td>188606</td>\n",
       "      <td>216929</td>\n",
       "      <td>F</td>\n",
       "      <td>2137-04-02 08:00:00</td>\n",
       "      <td>2137-04-09 10:38:00</td>\n",
       "      <td>7</td>\n",
       "      <td>41</td>\n",
       "      <td>WHITE</td>\n",
       "      <td>0</td>\n",
       "      <td>...</td>\n",
       "      <td>2.0</td>\n",
       "      <td>SICU</td>\n",
       "      <td>ELECTIVE</td>\n",
       "      <td>0</td>\n",
       "      <td>11</td>\n",
       "      <td>1</td>\n",
       "      <td>1</td>\n",
       "      <td>1</td>\n",
       "      <td>3</td>\n",
       "      <td>weekday</td>\n",
       "    </tr>\n",
       "    <tr>\n",
       "      <th>4</th>\n",
       "      <td>136</td>\n",
       "      <td>184644</td>\n",
       "      <td>203947</td>\n",
       "      <td>M</td>\n",
       "      <td>2103-05-09 07:15:00</td>\n",
       "      <td>2103-05-14 11:33:00</td>\n",
       "      <td>5</td>\n",
       "      <td>52</td>\n",
       "      <td>WHITE</td>\n",
       "      <td>0</td>\n",
       "      <td>...</td>\n",
       "      <td>1.0</td>\n",
       "      <td>SICU</td>\n",
       "      <td>ELECTIVE</td>\n",
       "      <td>0</td>\n",
       "      <td>8</td>\n",
       "      <td>2</td>\n",
       "      <td>0</td>\n",
       "      <td>2</td>\n",
       "      <td>3</td>\n",
       "      <td>weekday</td>\n",
       "    </tr>\n",
       "  </tbody>\n",
       "</table>\n",
       "<p>5 rows × 22 columns</p>\n",
       "</div>"
      ],
      "text/plain": [
       "   subject_id  hadm_id  icustay_id gender  admittime_hospital  \\\n",
       "0           3   145834      211552      M 2101-10-20 19:08:00   \n",
       "1           6   107064      228232      F 2175-05-30 07:15:00   \n",
       "2          56   181711      275642      F 2104-01-02 02:01:00   \n",
       "3          98   188606      216929      F 2137-04-02 08:00:00   \n",
       "4         136   184644      203947      M 2103-05-09 07:15:00   \n",
       "\n",
       "   dischtime_hospital  los_hospital  admission_age ethnicity  \\\n",
       "0 2101-10-31 13:58:00            11             76     WHITE   \n",
       "1 2175-06-15 16:00:00            16             66     WHITE   \n",
       "2 2104-01-08 10:30:00             6            300     WHITE   \n",
       "3 2137-04-09 10:38:00             7             41     WHITE   \n",
       "4 2103-05-14 11:33:00             5             52     WHITE   \n",
       "\n",
       "   hospital_expire_flag  ... los_icu first_careunit  admission_type  \\\n",
       "0                     0  ...     6.0           MICU       EMERGENCY   \n",
       "1                     0  ...     4.0           SICU        ELECTIVE   \n",
       "2                     1  ...     1.0           SICU       EMERGENCY   \n",
       "3                     0  ...     2.0           SICU        ELECTIVE   \n",
       "4                     0  ...     1.0           SICU        ELECTIVE   \n",
       "\n",
       "  icustay_expire_flag oasis  admitday_hospital  dischday_hospital  inday_icu  \\\n",
       "0                   0    57                  3                  0          3   \n",
       "1                   0    11                  1                  3          1   \n",
       "2                   0    52                  2                  1          2   \n",
       "3                   0    11                  1                  1          1   \n",
       "4                   0     8                  2                  0          2   \n",
       "\n",
       "   outday_icu  inday_icu_wkd  \n",
       "0           2        weekday  \n",
       "1           5        weekday  \n",
       "2           3        weekday  \n",
       "3           3        weekday  \n",
       "4           3        weekday  \n",
       "\n",
       "[5 rows x 22 columns]"
      ]
     },
     "execution_count": 30,
     "metadata": {},
     "output_type": "execute_result"
    }
   ],
   "source": [
    "data.head()"
   ]
  },
  {
   "cell_type": "code",
   "execution_count": 31,
   "metadata": {
    "colab": {
     "base_uri": "https://localhost:8080/",
     "height": 974
    },
    "id": "u9FrvKe9wq95",
    "outputId": "beb222b9-7dce-4ceb-973d-79db363e6c28"
   },
   "outputs": [
    {
     "data": {
      "text/plain": [
       "(13.5, -0.5)"
      ]
     },
     "execution_count": 31,
     "metadata": {},
     "output_type": "execute_result"
    },
    {
     "data": {
      "image/png": "[encoded data removed]",
      "text/plain": [
       "<Figure size 1080x1080 with 2 Axes>"
      ]
     },
     "metadata": {
      "needs_background": "light"
     },
     "output_type": "display_data"
    }
   ],
   "source": [
    "# Perform Correlation using correlation matrix\n",
    "corr_matrix = data.corr()\n",
    "fig, ax = plt.subplots(figsize=(15, 15))\n",
    "ax = sns.heatmap(corr_matrix,\n",
    "                 annot=True,\n",
    "                 linewidths=0.5,\n",
    "                 fmt=\".2f\",\n",
    "                 cmap=\"YlGnBu\");\n",
    "bottom, top = ax.get_ylim()\n",
    "ax.set_ylim(bottom + 0.5, top - 0.5)"
   ]
  },
  {
   "cell_type": "markdown",
   "metadata": {
    "id": "z35T2-aOcMg4"
   },
   "source": [
    "# Feature Engineering"
   ]
  },
  {
   "cell_type": "code",
   "execution_count": 32,
   "metadata": {
    "colab": {
     "base_uri": "https://localhost:8080/"
    },
    "id": "5jNXFOGj1I4I",
    "outputId": "29518ecd-8735-4a2f-ac07-81dc2529b2f0"
   },
   "outputs": [
    {
     "data": {
      "text/plain": [
       "array(['WHITE', 'OTHER', 'BLACK/AFRICAN AMERICAN',\n",
       "       'UNKNOWN/NOT SPECIFIED', 'ASIAN', 'ASIAN - CAMBODIAN',\n",
       "       'PATIENT DECLINED TO ANSWER', 'HISPANIC OR LATINO',\n",
       "       'MULTI RACE ETHNICITY',\n",
       "       'NATIVE HAWAIIAN OR OTHER PACIFIC ISLANDER', 'UNABLE TO OBTAIN',\n",
       "       'BLACK/CAPE VERDEAN', 'HISPANIC/LATINO - PUERTO RICAN',\n",
       "       'WHITE - BRAZILIAN', 'WHITE - RUSSIAN', 'ASIAN - CHINESE',\n",
       "       'BLACK/AFRICAN', 'HISPANIC/LATINO - GUATEMALAN',\n",
       "       'ASIAN - FILIPINO', 'CARIBBEAN ISLAND', 'HISPANIC/LATINO - CUBAN',\n",
       "       'PORTUGUESE', 'ASIAN - VIETNAMESE', 'ASIAN - JAPANESE',\n",
       "       'WHITE - OTHER EUROPEAN', 'WHITE - EASTERN EUROPEAN',\n",
       "       'BLACK/HAITIAN', 'ASIAN - ASIAN INDIAN', 'MIDDLE EASTERN',\n",
       "       'AMERICAN INDIAN/ALASKA NATIVE', 'HISPANIC/LATINO - SALVADORAN',\n",
       "       'HISPANIC/LATINO - COLOMBIAN', 'HISPANIC/LATINO - DOMINICAN',\n",
       "       'HISPANIC/LATINO - CENTRAL AMERICAN (OTHER)', 'ASIAN - OTHER',\n",
       "       'HISPANIC/LATINO - MEXICAN', 'HISPANIC/LATINO - HONDURAN',\n",
       "       'SOUTH AMERICAN', 'ASIAN - KOREAN', 'ASIAN - THAI',\n",
       "       'AMERICAN INDIAN/ALASKA NATIVE FEDERALLY RECOGNIZED TRIBE'],\n",
       "      dtype=object)"
      ]
     },
     "execution_count": 32,
     "metadata": {},
     "output_type": "execute_result"
    }
   ],
   "source": [
    "# Unique etnicity\n",
    "\n",
    "data['ethnicity'].unique()\n",
    "\n"
   ]
  },
  {
   "cell_type": "code",
   "execution_count": 33,
   "metadata": {
    "colab": {
     "base_uri": "https://localhost:8080/"
    },
    "id": "1w5WJumT0bs-",
    "outputId": "05a83b39-e8b6-46ff-f34f-12f13e5f579d"
   },
   "outputs": [
    {
     "data": {
      "text/plain": [
       "WHITE                             27270\n",
       "UNKNOWN/NOT SPECIFIED              3725\n",
       "BLACK/AFRICAN AMERICAN             2715\n",
       "HISPANIC OR LATINO                  979\n",
       "OTHER                               885\n",
       "UNABLE TO OBTAIN                    754\n",
       "ASIAN                               588\n",
       "PATIENT DECLINED TO ANSWER          387\n",
       "ASIAN - CHINESE                     184\n",
       "HISPANIC/LATINO - PUERTO RICAN      139\n",
       "BLACK/CAPE VERDEAN                  133\n",
       "WHITE - RUSSIAN                     106\n",
       "MULTI RACE ETHNICITY                 84\n",
       "BLACK/HAITIAN                        69\n",
       "WHITE - OTHER EUROPEAN               64\n",
       "HISPANIC/LATINO - DOMINICAN          60\n",
       "ASIAN - ASIAN INDIAN                 53\n",
       "WHITE - BRAZILIAN                    39\n",
       "ASIAN - VIETNAMESE                   35\n",
       "PORTUGUESE                           34\n",
       "Name: ethnicity, dtype: int64"
      ]
     },
     "execution_count": 33,
     "metadata": {},
     "output_type": "execute_result"
    }
   ],
   "source": [
    "# selecting the top 10 etnicity for our model\n",
    "\n",
    "data.ethnicity.value_counts().sort_values(ascending=False).head(20)"
   ]
  },
  {
   "cell_type": "code",
   "execution_count": 34,
   "metadata": {
    "colab": {
     "base_uri": "https://localhost:8080/"
    },
    "id": "RUSy3q3Czs8m",
    "outputId": "31d8238d-482d-4dfc-fc20-cf5e485412bf"
   },
   "outputs": [
    {
     "data": {
      "text/plain": [
       "['WHITE',\n",
       " 'UNKNOWN/NOT SPECIFIED',\n",
       " 'BLACK/AFRICAN AMERICAN',\n",
       " 'HISPANIC OR LATINO',\n",
       " 'OTHER',\n",
       " 'UNABLE TO OBTAIN',\n",
       " 'ASIAN',\n",
       " 'PATIENT DECLINED TO ANSWER',\n",
       " 'ASIAN - CHINESE',\n",
       " 'HISPANIC/LATINO - PUERTO RICAN']"
      ]
     },
     "execution_count": 34,
     "metadata": {},
     "output_type": "execute_result"
    }
   ],
   "source": [
    "# Lets make a list of the top 10 repeating category variables\n",
    "\n",
    "top10 = [x for x in data.ethnicity.value_counts().sort_values(ascending=False).head(10).index]\n",
    "top10"
   ]
  },
  {
   "cell_type": "code",
   "execution_count": 35,
   "metadata": {
    "colab": {
     "base_uri": "https://localhost:8080/",
     "height": 591
    },
    "id": "c2g_qhEj1SCu",
    "outputId": "e658fba5-f77b-4c31-f342-cdf3badf5438"
   },
   "outputs": [
    {
     "data": {
      "text/html": [
       "<div>\n",
       "<style scoped>\n",
       "    .dataframe tbody tr th:only-of-type {\n",
       "        vertical-align: middle;\n",
       "    }\n",
       "\n",
       "    .dataframe tbody tr th {\n",
       "        vertical-align: top;\n",
       "    }\n",
       "\n",
       "    .dataframe thead th {\n",
       "        text-align: right;\n",
       "    }\n",
       "</style>\n",
       "<table border=\"1\" class=\"dataframe\">\n",
       "  <thead>\n",
       "    <tr style=\"text-align: right;\">\n",
       "      <th></th>\n",
       "      <th>subject_id</th>\n",
       "      <th>hadm_id</th>\n",
       "      <th>icustay_id</th>\n",
       "      <th>gender</th>\n",
       "      <th>admittime_hospital</th>\n",
       "      <th>dischtime_hospital</th>\n",
       "      <th>los_hospital</th>\n",
       "      <th>admission_age</th>\n",
       "      <th>ethnicity</th>\n",
       "      <th>hospital_expire_flag</th>\n",
       "      <th>...</th>\n",
       "      <th>ethnicity_WHITE</th>\n",
       "      <th>ethnicity_UNKNOWN/NOT SPECIFIED</th>\n",
       "      <th>ethnicity_BLACK/AFRICAN AMERICAN</th>\n",
       "      <th>ethnicity_HISPANIC OR LATINO</th>\n",
       "      <th>ethnicity_OTHER</th>\n",
       "      <th>ethnicity_UNABLE TO OBTAIN</th>\n",
       "      <th>ethnicity_ASIAN</th>\n",
       "      <th>ethnicity_PATIENT DECLINED TO ANSWER</th>\n",
       "      <th>ethnicity_ASIAN - CHINESE</th>\n",
       "      <th>ethnicity_HISPANIC/LATINO - PUERTO RICAN</th>\n",
       "    </tr>\n",
       "  </thead>\n",
       "  <tbody>\n",
       "    <tr>\n",
       "      <th>0</th>\n",
       "      <td>3</td>\n",
       "      <td>145834</td>\n",
       "      <td>211552</td>\n",
       "      <td>M</td>\n",
       "      <td>2101-10-20 19:08:00</td>\n",
       "      <td>2101-10-31 13:58:00</td>\n",
       "      <td>11</td>\n",
       "      <td>76</td>\n",
       "      <td>WHITE</td>\n",
       "      <td>0</td>\n",
       "      <td>...</td>\n",
       "      <td>1</td>\n",
       "      <td>0</td>\n",
       "      <td>0</td>\n",
       "      <td>0</td>\n",
       "      <td>0</td>\n",
       "      <td>0</td>\n",
       "      <td>0</td>\n",
       "      <td>0</td>\n",
       "      <td>0</td>\n",
       "      <td>0</td>\n",
       "    </tr>\n",
       "    <tr>\n",
       "      <th>1</th>\n",
       "      <td>6</td>\n",
       "      <td>107064</td>\n",
       "      <td>228232</td>\n",
       "      <td>F</td>\n",
       "      <td>2175-05-30 07:15:00</td>\n",
       "      <td>2175-06-15 16:00:00</td>\n",
       "      <td>16</td>\n",
       "      <td>66</td>\n",
       "      <td>WHITE</td>\n",
       "      <td>0</td>\n",
       "      <td>...</td>\n",
       "      <td>1</td>\n",
       "      <td>0</td>\n",
       "      <td>0</td>\n",
       "      <td>0</td>\n",
       "      <td>0</td>\n",
       "      <td>0</td>\n",
       "      <td>0</td>\n",
       "      <td>0</td>\n",
       "      <td>0</td>\n",
       "      <td>0</td>\n",
       "    </tr>\n",
       "    <tr>\n",
       "      <th>2</th>\n",
       "      <td>56</td>\n",
       "      <td>181711</td>\n",
       "      <td>275642</td>\n",
       "      <td>F</td>\n",
       "      <td>2104-01-02 02:01:00</td>\n",
       "      <td>2104-01-08 10:30:00</td>\n",
       "      <td>6</td>\n",
       "      <td>300</td>\n",
       "      <td>WHITE</td>\n",
       "      <td>1</td>\n",
       "      <td>...</td>\n",
       "      <td>1</td>\n",
       "      <td>0</td>\n",
       "      <td>0</td>\n",
       "      <td>0</td>\n",
       "      <td>0</td>\n",
       "      <td>0</td>\n",
       "      <td>0</td>\n",
       "      <td>0</td>\n",
       "      <td>0</td>\n",
       "      <td>0</td>\n",
       "    </tr>\n",
       "    <tr>\n",
       "      <th>3</th>\n",
       "      <td>98</td>\n",
       "      <td>188606</td>\n",
       "      <td>216929</td>\n",
       "      <td>F</td>\n",
       "      <td>2137-04-02 08:00:00</td>\n",
       "      <td>2137-04-09 10:38:00</td>\n",
       "      <td>7</td>\n",
       "      <td>41</td>\n",
       "      <td>WHITE</td>\n",
       "      <td>0</td>\n",
       "      <td>...</td>\n",
       "      <td>1</td>\n",
       "      <td>0</td>\n",
       "      <td>0</td>\n",
       "      <td>0</td>\n",
       "      <td>0</td>\n",
       "      <td>0</td>\n",
       "      <td>0</td>\n",
       "      <td>0</td>\n",
       "      <td>0</td>\n",
       "      <td>0</td>\n",
       "    </tr>\n",
       "    <tr>\n",
       "      <th>4</th>\n",
       "      <td>136</td>\n",
       "      <td>184644</td>\n",
       "      <td>203947</td>\n",
       "      <td>M</td>\n",
       "      <td>2103-05-09 07:15:00</td>\n",
       "      <td>2103-05-14 11:33:00</td>\n",
       "      <td>5</td>\n",
       "      <td>52</td>\n",
       "      <td>WHITE</td>\n",
       "      <td>0</td>\n",
       "      <td>...</td>\n",
       "      <td>1</td>\n",
       "      <td>0</td>\n",
       "      <td>0</td>\n",
       "      <td>0</td>\n",
       "      <td>0</td>\n",
       "      <td>0</td>\n",
       "      <td>0</td>\n",
       "      <td>0</td>\n",
       "      <td>0</td>\n",
       "      <td>0</td>\n",
       "    </tr>\n",
       "    <tr>\n",
       "      <th>5</th>\n",
       "      <td>141</td>\n",
       "      <td>168006</td>\n",
       "      <td>234668</td>\n",
       "      <td>M</td>\n",
       "      <td>2140-11-06 11:07:00</td>\n",
       "      <td>2140-11-09 20:36:00</td>\n",
       "      <td>3</td>\n",
       "      <td>80</td>\n",
       "      <td>OTHER</td>\n",
       "      <td>1</td>\n",
       "      <td>...</td>\n",
       "      <td>0</td>\n",
       "      <td>0</td>\n",
       "      <td>0</td>\n",
       "      <td>0</td>\n",
       "      <td>1</td>\n",
       "      <td>0</td>\n",
       "      <td>0</td>\n",
       "      <td>0</td>\n",
       "      <td>0</td>\n",
       "      <td>0</td>\n",
       "    </tr>\n",
       "    <tr>\n",
       "      <th>6</th>\n",
       "      <td>166</td>\n",
       "      <td>128219</td>\n",
       "      <td>271863</td>\n",
       "      <td>F</td>\n",
       "      <td>2105-01-23 22:57:00</td>\n",
       "      <td>2105-01-24 03:48:00</td>\n",
       "      <td>1</td>\n",
       "      <td>300</td>\n",
       "      <td>WHITE</td>\n",
       "      <td>1</td>\n",
       "      <td>...</td>\n",
       "      <td>1</td>\n",
       "      <td>0</td>\n",
       "      <td>0</td>\n",
       "      <td>0</td>\n",
       "      <td>0</td>\n",
       "      <td>0</td>\n",
       "      <td>0</td>\n",
       "      <td>0</td>\n",
       "      <td>0</td>\n",
       "      <td>0</td>\n",
       "    </tr>\n",
       "    <tr>\n",
       "      <th>7</th>\n",
       "      <td>310</td>\n",
       "      <td>142159</td>\n",
       "      <td>269885</td>\n",
       "      <td>M</td>\n",
       "      <td>2139-05-06 13:15:00</td>\n",
       "      <td>2139-05-10 12:00:00</td>\n",
       "      <td>4</td>\n",
       "      <td>43</td>\n",
       "      <td>WHITE</td>\n",
       "      <td>0</td>\n",
       "      <td>...</td>\n",
       "      <td>1</td>\n",
       "      <td>0</td>\n",
       "      <td>0</td>\n",
       "      <td>0</td>\n",
       "      <td>0</td>\n",
       "      <td>0</td>\n",
       "      <td>0</td>\n",
       "      <td>0</td>\n",
       "      <td>0</td>\n",
       "      <td>0</td>\n",
       "    </tr>\n",
       "    <tr>\n",
       "      <th>8</th>\n",
       "      <td>348</td>\n",
       "      <td>130789</td>\n",
       "      <td>259918</td>\n",
       "      <td>F</td>\n",
       "      <td>2154-12-13 12:30:00</td>\n",
       "      <td>2154-12-16 11:31:00</td>\n",
       "      <td>3</td>\n",
       "      <td>46</td>\n",
       "      <td>WHITE</td>\n",
       "      <td>0</td>\n",
       "      <td>...</td>\n",
       "      <td>1</td>\n",
       "      <td>0</td>\n",
       "      <td>0</td>\n",
       "      <td>0</td>\n",
       "      <td>0</td>\n",
       "      <td>0</td>\n",
       "      <td>0</td>\n",
       "      <td>0</td>\n",
       "      <td>0</td>\n",
       "      <td>0</td>\n",
       "    </tr>\n",
       "    <tr>\n",
       "      <th>9</th>\n",
       "      <td>412</td>\n",
       "      <td>109897</td>\n",
       "      <td>258588</td>\n",
       "      <td>M</td>\n",
       "      <td>2138-03-18 08:00:00</td>\n",
       "      <td>2138-03-25 17:20:00</td>\n",
       "      <td>7</td>\n",
       "      <td>76</td>\n",
       "      <td>BLACK/AFRICAN AMERICAN</td>\n",
       "      <td>0</td>\n",
       "      <td>...</td>\n",
       "      <td>0</td>\n",
       "      <td>0</td>\n",
       "      <td>1</td>\n",
       "      <td>0</td>\n",
       "      <td>0</td>\n",
       "      <td>0</td>\n",
       "      <td>0</td>\n",
       "      <td>0</td>\n",
       "      <td>0</td>\n",
       "      <td>0</td>\n",
       "    </tr>\n",
       "  </tbody>\n",
       "</table>\n",
       "<p>10 rows × 32 columns</p>\n",
       "</div>"
      ],
      "text/plain": [
       "   subject_id  hadm_id  icustay_id gender  admittime_hospital  \\\n",
       "0           3   145834      211552      M 2101-10-20 19:08:00   \n",
       "1           6   107064      228232      F 2175-05-30 07:15:00   \n",
       "2          56   181711      275642      F 2104-01-02 02:01:00   \n",
       "3          98   188606      216929      F 2137-04-02 08:00:00   \n",
       "4         136   184644      203947      M 2103-05-09 07:15:00   \n",
       "5         141   168006      234668      M 2140-11-06 11:07:00   \n",
       "6         166   128219      271863      F 2105-01-23 22:57:00   \n",
       "7         310   142159      269885      M 2139-05-06 13:15:00   \n",
       "8         348   130789      259918      F 2154-12-13 12:30:00   \n",
       "9         412   109897      258588      M 2138-03-18 08:00:00   \n",
       "\n",
       "   dischtime_hospital  los_hospital  admission_age               ethnicity  \\\n",
       "0 2101-10-31 13:58:00            11             76                   WHITE   \n",
       "1 2175-06-15 16:00:00            16             66                   WHITE   \n",
       "2 2104-01-08 10:30:00             6            300                   WHITE   \n",
       "3 2137-04-09 10:38:00             7             41                   WHITE   \n",
       "4 2103-05-14 11:33:00             5             52                   WHITE   \n",
       "5 2140-11-09 20:36:00             3             80                   OTHER   \n",
       "6 2105-01-24 03:48:00             1            300                   WHITE   \n",
       "7 2139-05-10 12:00:00             4             43                   WHITE   \n",
       "8 2154-12-16 11:31:00             3             46                   WHITE   \n",
       "9 2138-03-25 17:20:00             7             76  BLACK/AFRICAN AMERICAN   \n",
       "\n",
       "   hospital_expire_flag  ... ethnicity_WHITE ethnicity_UNKNOWN/NOT SPECIFIED  \\\n",
       "0                     0  ...               1                               0   \n",
       "1                     0  ...               1                               0   \n",
       "2                     1  ...               1                               0   \n",
       "3                     0  ...               1                               0   \n",
       "4                     0  ...               1                               0   \n",
       "5                     1  ...               0                               0   \n",
       "6                     1  ...               1                               0   \n",
       "7                     0  ...               1                               0   \n",
       "8                     0  ...               1                               0   \n",
       "9                     0  ...               0                               0   \n",
       "\n",
       "   ethnicity_BLACK/AFRICAN AMERICAN ethnicity_HISPANIC OR LATINO  \\\n",
       "0                                 0                            0   \n",
       "1                                 0                            0   \n",
       "2                                 0                            0   \n",
       "3                                 0                            0   \n",
       "4                                 0                            0   \n",
       "5                                 0                            0   \n",
       "6                                 0                            0   \n",
       "7                                 0                            0   \n",
       "8                                 0                            0   \n",
       "9                                 1                            0   \n",
       "\n",
       "  ethnicity_OTHER  ethnicity_UNABLE TO OBTAIN  ethnicity_ASIAN  \\\n",
       "0               0                           0                0   \n",
       "1               0                           0                0   \n",
       "2               0                           0                0   \n",
       "3               0                           0                0   \n",
       "4               0                           0                0   \n",
       "5               1                           0                0   \n",
       "6               0                           0                0   \n",
       "7               0                           0                0   \n",
       "8               0                           0                0   \n",
       "9               0                           0                0   \n",
       "\n",
       "   ethnicity_PATIENT DECLINED TO ANSWER  ethnicity_ASIAN - CHINESE  \\\n",
       "0                                     0                          0   \n",
       "1                                     0                          0   \n",
       "2                                     0                          0   \n",
       "3                                     0                          0   \n",
       "4                                     0                          0   \n",
       "5                                     0                          0   \n",
       "6                                     0                          0   \n",
       "7                                     0                          0   \n",
       "8                                     0                          0   \n",
       "9                                     0                          0   \n",
       "\n",
       "   ethnicity_HISPANIC/LATINO - PUERTO RICAN  \n",
       "0                                         0  \n",
       "1                                         0  \n",
       "2                                         0  \n",
       "3                                         0  \n",
       "4                                         0  \n",
       "5                                         0  \n",
       "6                                         0  \n",
       "7                                         0  \n",
       "8                                         0  \n",
       "9                                         0  \n",
       "\n",
       "[10 rows x 32 columns]"
      ]
     },
     "execution_count": 35,
     "metadata": {},
     "output_type": "execute_result"
    }
   ],
   "source": [
    "# creating a function to apply this to all the features\n",
    "\n",
    "def one_hot(data,feature,top_labels):\n",
    "    for label in top_labels:\n",
    "        data[feature+'_'+label] = np.where(data[feature]==label, 1, 0)\n",
    "\n",
    "# perform 1 hot encoding for X1 feature\n",
    "one_hot(data,'ethnicity',top10)\n",
    "data.head(10)"
   ]
  },
  {
   "cell_type": "code",
   "execution_count": 36,
   "metadata": {
    "id": "l12Wd-4s2XJX"
   },
   "outputs": [],
   "source": [
    "# dropping the original feature after the one-hot-encodings are created\n",
    "data.drop(columns='ethnicity', inplace=True, axis=1)"
   ]
  },
  {
   "cell_type": "code",
   "execution_count": 37,
   "metadata": {
    "id": "T4uaqKx5w934"
   },
   "outputs": [],
   "source": [
    "# Encoding the other categorical features that have only 2 categorical values for each feature \n",
    "categorical_features = ['admission_type', 'first_careunit', 'gender', 'inday_icu_wkd']\n",
    "\n",
    "encoded_features = pd.get_dummies(data[categorical_features])"
   ]
  },
  {
   "cell_type": "code",
   "execution_count": 38,
   "metadata": {
    "id": "Fwia1ZJE3Fmi"
   },
   "outputs": [],
   "source": [
    "# concatinating the encoded dataframe with the original dataframe\n",
    "data = pd.concat([data,encoded_features],axis=1)"
   ]
  },
  {
   "cell_type": "code",
   "execution_count": 39,
   "metadata": {
    "id": "SIqMeb9V4USa"
   },
   "outputs": [],
   "source": [
    "# dropping the original categorical values after encoded\n",
    "data.drop(columns=['first_careunit','admission_type','gender', 'inday_icu_wkd'], inplace=True)"
   ]
  },
  {
   "cell_type": "code",
   "execution_count": 40,
   "metadata": {
    "colab": {
     "base_uri": "https://localhost:8080/",
     "height": 348
    },
    "id": "-Toab7-Q4koD",
    "outputId": "70015d82-e1aa-41b8-a05b-c325eebb7bdd"
   },
   "outputs": [
    {
     "data": {
      "text/html": [
       "<div>\n",
       "<style scoped>\n",
       "    .dataframe tbody tr th:only-of-type {\n",
       "        vertical-align: middle;\n",
       "    }\n",
       "\n",
       "    .dataframe tbody tr th {\n",
       "        vertical-align: top;\n",
       "    }\n",
       "\n",
       "    .dataframe thead th {\n",
       "        text-align: right;\n",
       "    }\n",
       "</style>\n",
       "<table border=\"1\" class=\"dataframe\">\n",
       "  <thead>\n",
       "    <tr style=\"text-align: right;\">\n",
       "      <th></th>\n",
       "      <th>subject_id</th>\n",
       "      <th>hadm_id</th>\n",
       "      <th>icustay_id</th>\n",
       "      <th>admittime_hospital</th>\n",
       "      <th>dischtime_hospital</th>\n",
       "      <th>los_hospital</th>\n",
       "      <th>admission_age</th>\n",
       "      <th>hospital_expire_flag</th>\n",
       "      <th>intime_icu</th>\n",
       "      <th>outtime_icu</th>\n",
       "      <th>...</th>\n",
       "      <th>admission_type_URGENT</th>\n",
       "      <th>first_careunit_CCU</th>\n",
       "      <th>first_careunit_CSRU</th>\n",
       "      <th>first_careunit_MICU</th>\n",
       "      <th>first_careunit_SICU</th>\n",
       "      <th>first_careunit_TSICU</th>\n",
       "      <th>gender_F</th>\n",
       "      <th>gender_M</th>\n",
       "      <th>inday_icu_wkd_weekday</th>\n",
       "      <th>inday_icu_wkd_weekend</th>\n",
       "    </tr>\n",
       "  </thead>\n",
       "  <tbody>\n",
       "    <tr>\n",
       "      <th>0</th>\n",
       "      <td>3</td>\n",
       "      <td>145834</td>\n",
       "      <td>211552</td>\n",
       "      <td>2101-10-20 19:08:00</td>\n",
       "      <td>2101-10-31 13:58:00</td>\n",
       "      <td>11</td>\n",
       "      <td>76</td>\n",
       "      <td>0</td>\n",
       "      <td>2101-10-20 19:10:11</td>\n",
       "      <td>2101-10-26 20:43:09</td>\n",
       "      <td>...</td>\n",
       "      <td>0</td>\n",
       "      <td>0</td>\n",
       "      <td>0</td>\n",
       "      <td>1</td>\n",
       "      <td>0</td>\n",
       "      <td>0</td>\n",
       "      <td>0</td>\n",
       "      <td>1</td>\n",
       "      <td>1</td>\n",
       "      <td>0</td>\n",
       "    </tr>\n",
       "    <tr>\n",
       "      <th>1</th>\n",
       "      <td>6</td>\n",
       "      <td>107064</td>\n",
       "      <td>228232</td>\n",
       "      <td>2175-05-30 07:15:00</td>\n",
       "      <td>2175-06-15 16:00:00</td>\n",
       "      <td>16</td>\n",
       "      <td>66</td>\n",
       "      <td>0</td>\n",
       "      <td>2175-05-30 21:30:54</td>\n",
       "      <td>2175-06-03 13:39:54</td>\n",
       "      <td>...</td>\n",
       "      <td>0</td>\n",
       "      <td>0</td>\n",
       "      <td>0</td>\n",
       "      <td>0</td>\n",
       "      <td>1</td>\n",
       "      <td>0</td>\n",
       "      <td>1</td>\n",
       "      <td>0</td>\n",
       "      <td>1</td>\n",
       "      <td>0</td>\n",
       "    </tr>\n",
       "    <tr>\n",
       "      <th>2</th>\n",
       "      <td>56</td>\n",
       "      <td>181711</td>\n",
       "      <td>275642</td>\n",
       "      <td>2104-01-02 02:01:00</td>\n",
       "      <td>2104-01-08 10:30:00</td>\n",
       "      <td>6</td>\n",
       "      <td>300</td>\n",
       "      <td>1</td>\n",
       "      <td>2104-01-02 02:02:39</td>\n",
       "      <td>2104-01-03 22:25:29</td>\n",
       "      <td>...</td>\n",
       "      <td>0</td>\n",
       "      <td>0</td>\n",
       "      <td>0</td>\n",
       "      <td>0</td>\n",
       "      <td>1</td>\n",
       "      <td>0</td>\n",
       "      <td>1</td>\n",
       "      <td>0</td>\n",
       "      <td>1</td>\n",
       "      <td>0</td>\n",
       "    </tr>\n",
       "    <tr>\n",
       "      <th>3</th>\n",
       "      <td>98</td>\n",
       "      <td>188606</td>\n",
       "      <td>216929</td>\n",
       "      <td>2137-04-02 08:00:00</td>\n",
       "      <td>2137-04-09 10:38:00</td>\n",
       "      <td>7</td>\n",
       "      <td>41</td>\n",
       "      <td>0</td>\n",
       "      <td>2137-04-02 15:15:39</td>\n",
       "      <td>2137-04-04 21:06:16</td>\n",
       "      <td>...</td>\n",
       "      <td>0</td>\n",
       "      <td>0</td>\n",
       "      <td>0</td>\n",
       "      <td>0</td>\n",
       "      <td>1</td>\n",
       "      <td>0</td>\n",
       "      <td>1</td>\n",
       "      <td>0</td>\n",
       "      <td>1</td>\n",
       "      <td>0</td>\n",
       "    </tr>\n",
       "    <tr>\n",
       "      <th>4</th>\n",
       "      <td>136</td>\n",
       "      <td>184644</td>\n",
       "      <td>203947</td>\n",
       "      <td>2103-05-09 07:15:00</td>\n",
       "      <td>2103-05-14 11:33:00</td>\n",
       "      <td>5</td>\n",
       "      <td>52</td>\n",
       "      <td>0</td>\n",
       "      <td>2103-05-09 18:17:36</td>\n",
       "      <td>2103-05-10 16:42:19</td>\n",
       "      <td>...</td>\n",
       "      <td>0</td>\n",
       "      <td>0</td>\n",
       "      <td>0</td>\n",
       "      <td>0</td>\n",
       "      <td>1</td>\n",
       "      <td>0</td>\n",
       "      <td>0</td>\n",
       "      <td>1</td>\n",
       "      <td>1</td>\n",
       "      <td>0</td>\n",
       "    </tr>\n",
       "  </tbody>\n",
       "</table>\n",
       "<p>5 rows × 39 columns</p>\n",
       "</div>"
      ],
      "text/plain": [
       "   subject_id  hadm_id  icustay_id  admittime_hospital  dischtime_hospital  \\\n",
       "0           3   145834      211552 2101-10-20 19:08:00 2101-10-31 13:58:00   \n",
       "1           6   107064      228232 2175-05-30 07:15:00 2175-06-15 16:00:00   \n",
       "2          56   181711      275642 2104-01-02 02:01:00 2104-01-08 10:30:00   \n",
       "3          98   188606      216929 2137-04-02 08:00:00 2137-04-09 10:38:00   \n",
       "4         136   184644      203947 2103-05-09 07:15:00 2103-05-14 11:33:00   \n",
       "\n",
       "   los_hospital  admission_age  hospital_expire_flag          intime_icu  \\\n",
       "0            11             76                     0 2101-10-20 19:10:11   \n",
       "1            16             66                     0 2175-05-30 21:30:54   \n",
       "2             6            300                     1 2104-01-02 02:02:39   \n",
       "3             7             41                     0 2137-04-02 15:15:39   \n",
       "4             5             52                     0 2103-05-09 18:17:36   \n",
       "\n",
       "          outtime_icu  ...  admission_type_URGENT  first_careunit_CCU  \\\n",
       "0 2101-10-26 20:43:09  ...                      0                   0   \n",
       "1 2175-06-03 13:39:54  ...                      0                   0   \n",
       "2 2104-01-03 22:25:29  ...                      0                   0   \n",
       "3 2137-04-04 21:06:16  ...                      0                   0   \n",
       "4 2103-05-10 16:42:19  ...                      0                   0   \n",
       "\n",
       "   first_careunit_CSRU  first_careunit_MICU  first_careunit_SICU  \\\n",
       "0                    0                    1                    0   \n",
       "1                    0                    0                    1   \n",
       "2                    0                    0                    1   \n",
       "3                    0                    0                    1   \n",
       "4                    0                    0                    1   \n",
       "\n",
       "   first_careunit_TSICU  gender_F  gender_M  inday_icu_wkd_weekday  \\\n",
       "0                     0         0         1                      1   \n",
       "1                     0         1         0                      1   \n",
       "2                     0         1         0                      1   \n",
       "3                     0         1         0                      1   \n",
       "4                     0         0         1                      1   \n",
       "\n",
       "   inday_icu_wkd_weekend  \n",
       "0                      0  \n",
       "1                      0  \n",
       "2                      0  \n",
       "3                      0  \n",
       "4                      0  \n",
       "\n",
       "[5 rows x 39 columns]"
      ]
     },
     "execution_count": 40,
     "metadata": {},
     "output_type": "execute_result"
    }
   ],
   "source": [
    "data.head()"
   ]
  },
  {
   "cell_type": "code",
   "execution_count": 41,
   "metadata": {
    "colab": {
     "base_uri": "https://localhost:8080/"
    },
    "id": "_ijquvYY4mzV",
    "outputId": "8717291d-6de0-4a98-8da4-f5d82ed4aba0"
   },
   "outputs": [
    {
     "data": {
      "text/plain": [
       "subject_id                                           int64\n",
       "hadm_id                                              int64\n",
       "icustay_id                                           int64\n",
       "admittime_hospital                          datetime64[ns]\n",
       "dischtime_hospital                          datetime64[ns]\n",
       "los_hospital                                         int64\n",
       "admission_age                                        int64\n",
       "hospital_expire_flag                                 int64\n",
       "intime_icu                                  datetime64[ns]\n",
       "outtime_icu                                 datetime64[ns]\n",
       "los_icu                                            float64\n",
       "icustay_expire_flag                                  int64\n",
       "oasis                                                int64\n",
       "admitday_hospital                                    int64\n",
       "dischday_hospital                                    int64\n",
       "inday_icu                                            int64\n",
       "outday_icu                                           int64\n",
       "ethnicity_WHITE                                      int32\n",
       "ethnicity_UNKNOWN/NOT SPECIFIED                      int32\n",
       "ethnicity_BLACK/AFRICAN AMERICAN                     int32\n",
       "ethnicity_HISPANIC OR LATINO                         int32\n",
       "ethnicity_OTHER                                      int32\n",
       "ethnicity_UNABLE TO OBTAIN                           int32\n",
       "ethnicity_ASIAN                                      int32\n",
       "ethnicity_PATIENT DECLINED TO ANSWER                 int32\n",
       "ethnicity_ASIAN - CHINESE                            int32\n",
       "ethnicity_HISPANIC/LATINO - PUERTO RICAN             int32\n",
       "admission_type_ELECTIVE                              uint8\n",
       "admission_type_EMERGENCY                             uint8\n",
       "admission_type_URGENT                                uint8\n",
       "first_careunit_CCU                                   uint8\n",
       "first_careunit_CSRU                                  uint8\n",
       "first_careunit_MICU                                  uint8\n",
       "first_careunit_SICU                                  uint8\n",
       "first_careunit_TSICU                                 uint8\n",
       "gender_F                                             uint8\n",
       "gender_M                                             uint8\n",
       "inday_icu_wkd_weekday                                uint8\n",
       "inday_icu_wkd_weekend                                uint8\n",
       "dtype: object"
      ]
     },
     "execution_count": 41,
     "metadata": {},
     "output_type": "execute_result"
    }
   ],
   "source": [
    "data.dtypes"
   ]
  },
  {
   "cell_type": "code",
   "execution_count": 42,
   "metadata": {
    "id": "KLI3gHrf67sr"
   },
   "outputs": [],
   "source": [
    "# dropping the datetime datatypes as we converted the datetime features to dayoftheweek features\n",
    "datetime_cols = ['admittime_hospital', 'dischtime_hospital', 'intime_icu', 'outtime_icu']\n",
    "\n",
    "data.drop(columns=datetime_cols, axis=1, inplace=True)"
   ]
  },
  {
   "cell_type": "code",
   "execution_count": 43,
   "metadata": {
    "colab": {
     "base_uri": "https://localhost:8080/"
    },
    "id": "CO1z_UELSR7G",
    "outputId": "ce000e84-8655-46d8-c91e-2905d70df903"
   },
   "outputs": [
    {
     "data": {
      "text/plain": [
       "subject_id                                    int64\n",
       "hadm_id                                       int64\n",
       "icustay_id                                    int64\n",
       "los_hospital                                  int64\n",
       "admission_age                                 int64\n",
       "hospital_expire_flag                          int64\n",
       "los_icu                                     float64\n",
       "icustay_expire_flag                           int64\n",
       "oasis                                         int64\n",
       "admitday_hospital                             int64\n",
       "dischday_hospital                             int64\n",
       "inday_icu                                     int64\n",
       "outday_icu                                    int64\n",
       "ethnicity_WHITE                               int32\n",
       "ethnicity_UNKNOWN/NOT SPECIFIED               int32\n",
       "ethnicity_BLACK/AFRICAN AMERICAN              int32\n",
       "ethnicity_HISPANIC OR LATINO                  int32\n",
       "ethnicity_OTHER                               int32\n",
       "ethnicity_UNABLE TO OBTAIN                    int32\n",
       "ethnicity_ASIAN                               int32\n",
       "ethnicity_PATIENT DECLINED TO ANSWER          int32\n",
       "ethnicity_ASIAN - CHINESE                     int32\n",
       "ethnicity_HISPANIC/LATINO - PUERTO RICAN      int32\n",
       "admission_type_ELECTIVE                       uint8\n",
       "admission_type_EMERGENCY                      uint8\n",
       "admission_type_URGENT                         uint8\n",
       "first_careunit_CCU                            uint8\n",
       "first_careunit_CSRU                           uint8\n",
       "first_careunit_MICU                           uint8\n",
       "first_careunit_SICU                           uint8\n",
       "first_careunit_TSICU                          uint8\n",
       "gender_F                                      uint8\n",
       "gender_M                                      uint8\n",
       "inday_icu_wkd_weekday                         uint8\n",
       "inday_icu_wkd_weekend                         uint8\n",
       "dtype: object"
      ]
     },
     "execution_count": 43,
     "metadata": {},
     "output_type": "execute_result"
    }
   ],
   "source": [
    "data.dtypes"
   ]
  },
  {
   "cell_type": "markdown",
   "metadata": {
    "id": "KXNfDwKzd2Or"
   },
   "source": [
    "# Standardizing the dataset"
   ]
  },
  {
   "cell_type": "code",
   "execution_count": 44,
   "metadata": {
    "id": "SkHse1a37TF1"
   },
   "outputs": [],
   "source": [
    "# Scaling and splitting the data to train and test\n",
    "\n",
    "\n",
    "# Scaler\n",
    "scalar = StandardScaler()\n",
    "\n",
    "# Identifying the class label\n",
    "X = data.drop(columns=['hospital_expire_flag'])\n",
    "y = data['hospital_expire_flag']\n",
    "\n",
    "\n",
    "# Creating training and testing set\n",
    "X_train, X_test, y_train, y_test = train_test_split(X,y,test_size=0.25,random_state=0)\n",
    "\n",
    "# Center and normalize the data\n",
    "scalar.fit(X)\n",
    "X_train = scalar.transform(X_train)\n",
    "X_test = scalar.transform(X_test)"
   ]
  },
  {
   "cell_type": "code",
   "execution_count": null,
   "metadata": {
    "id": "muRaPmqYy0Ub"
   },
   "outputs": [],
   "source": []
  },
  {
   "cell_type": "markdown",
   "metadata": {
    "id": "fhHzWLo3d9JP"
   },
   "source": [
    "# Building Machine Learning models"
   ]
  },
  {
   "cell_type": "code",
   "execution_count": 45,
   "metadata": {
    "colab": {
     "base_uri": "https://localhost:8080/",
     "height": 1000
    },
    "id": "ur72pbrJ72yd",
    "outputId": "8c78010a-a21b-472a-de75-0c00b0d02c2f"
   },
   "outputs": [
    {
     "name": "stdout",
     "output_type": "stream",
     "text": [
      "\n",
      " Naive Bayes \n",
      " Accuracy: 0.9598506069094305 \n",
      " F-score 0.8105726872246695 \n",
      " Precision score 0.8922413793103449 \n",
      " Recall score 0.7426008968609865\n",
      "\n",
      " Logistic Regression \n",
      " Accuracy: 0.9690839298682435 \n",
      " F-score 0.8460743801652894 \n",
      " Precision score 0.997563946406821 \n",
      " Recall score 0.7345291479820628\n",
      "\n",
      " K Nearest Neighbour \n",
      " Accuracy: 0.9644153957879448 \n",
      " F-score 0.821074595722483 \n",
      " Precision score 0.9812967581047382 \n",
      " Recall score 0.705829596412556\n",
      "\n",
      " Support Vector Classification \n",
      " Accuracy: 0.9689801846664592 \n",
      " F-score 0.8451579492490937 \n",
      " Precision score 1.0 \n",
      " Recall score 0.7318385650224215\n",
      "\n",
      " Decision Tree Classification \n",
      " Accuracy: 0.9379603693329184 \n",
      " F-score 0.7395470383275262 \n",
      " Precision score 0.7188823031329382 \n",
      " Recall score 0.7614349775784753\n",
      "\n",
      " Stochastic Gradient Descent \n",
      " Accuracy: 0.9690839298682435 \n",
      " F-score 0.8457556935817806 \n",
      " Precision score 1.0 \n",
      " Recall score 0.7327354260089686\n",
      "\n",
      " Linear Discriminant Analysis \n",
      " Accuracy: 0.969187675070028 \n",
      " F-score 0.8463528194516295 \n",
      " Precision score 1.0 \n",
      " Recall score 0.7336322869955157\n",
      "\n",
      " Gradient Boosting Classification  \n",
      " Accuracy: 0.9690839298682435 \n",
      " F-score 0.8467078189300411 \n",
      " Precision score 0.9927623642943305 \n",
      " Recall score 0.7381165919282511\n",
      "\n",
      " Random Forest Classification \n",
      " Accuracy: 0.9689801846664592 \n",
      " F-score 0.8453181583031557 \n",
      " Precision score 0.9987775061124694 \n",
      " Recall score 0.7327354260089686\n"
     ]
    },
    {
     "data": {
      "image/png": "[encoded data removed]",
      "text/plain": [
       "<Figure size 1440x360 with 11 Axes>"
      ]
     },
     "metadata": {
      "needs_background": "light"
     },
     "output_type": "display_data"
    }
   ],
   "source": [
    "# building classifiers for training and testing different models\n",
    "\n",
    "classifiers = {\n",
    "    \"Naive Bayes\": GaussianNB(),\n",
    "    \"Logistic Regression\": LogisticRegression(),\n",
    "    \"K Nearest Neighbour\": KNeighborsClassifier(),\n",
    "    \"Support Vector Classification\": SVC(),\n",
    "    \"Decision Tree Classification\": DecisionTreeClassifier(),\n",
    "    \"Stochastic Gradient Descent\": SGDClassifier(),\n",
    "    \"Linear Discriminant Analysis\": LinearDiscriminantAnalysis(),\n",
    "    \"Gradient Boosting Classification \": GradientBoostingClassifier(),\n",
    "    \"Random Forest Classification\": RandomForestClassifier()\n",
    "    }\n",
    "\n",
    "f, axes = plt.subplots(2, 5, figsize=(20, 5), sharey='row')\n",
    "\n",
    "for i, (key, classifier) in enumerate(classifiers.items()):\n",
    "    j = 0\n",
    "    k = i\n",
    "    if i>4:\n",
    "        k = i-5\n",
    "        j+=1\n",
    "    \n",
    "    y_pred = classifier.fit(X_train, y_train).predict(X_test)\n",
    "    cf_matrix = confusion_matrix(y_test, y_pred)\n",
    "    print(\"\\n\" ,key, \"\\n Accuracy:\",accuracy_score(y_test,y_pred),\"\\n F-score\",f1_score(y_test,y_pred), \n",
    "          \"\\n Precision score\",precision_score(y_test,y_pred), \"\\n Recall score\", recall_score(y_test,y_pred))\n",
    "    disp = ConfusionMatrixDisplay(cf_matrix,\n",
    "                                  display_labels=[\"Not Expired\",\"Expired\"])\n",
    "    disp.plot(ax=axes[j][k], xticks_rotation=45)\n",
    "    disp.ax_.set_title(key)\n",
    "    disp.im_.colorbar.remove()\n",
    "    disp.ax_.set_xlabel('')\n",
    "    if i!=0:\n",
    "        disp.ax_.set_ylabel('')\n",
    "\n",
    "f.text(0.43, -0.1, 'Predicted label', ha='left')\n",
    "plt.subplots_adjust(wspace=0.40, hspace=1)\n",
    "\n",
    "\n",
    "f.colorbar(disp.im_, ax=axes)\n",
    "plt.show()"
   ]
  },
  {
   "cell_type": "code",
   "execution_count": null,
   "metadata": {
    "id": "bej7rSroKOrS"
   },
   "outputs": [],
   "source": []
  },
  {
   "cell_type": "markdown",
   "metadata": {
    "id": "JGTO7TN1KPdW"
   },
   "source": [
    "# Hyperparameter Tuning"
   ]
  },
  {
   "cell_type": "markdown",
   "metadata": {
    "id": "a_akpjmP3sVV"
   },
   "source": [
    "### Gradient Boosting"
   ]
  },
  {
   "cell_type": "code",
   "execution_count": null,
   "metadata": {
    "colab": {
     "base_uri": "https://localhost:8080/"
    },
    "id": "E2-U37n9KVXr",
    "outputId": "c0fa7d0b-019a-498d-abaa-51a6f4cb5f12"
   },
   "outputs": [
    {
     "name": "stdout",
     "output_type": "stream",
     "text": [
      "Fitting 5 folds for each of 2916 candidates, totalling 14580 fits\n"
     ]
    }
   ],
   "source": [
    "# Gradient Boosting\n",
    "\n",
    "parameters = [{\n",
    "    \"loss\":[\"deviance\"],\n",
    "    \"learning_rate\": [0.2,0.3,0.4],\n",
    "    \"min_samples_split\": [0.01,0.1, 0.5],\n",
    "    \"min_samples_leaf\": [0.0001,0.001, 0.01],\n",
    "    \"max_depth\":[8,10,15],\n",
    "    \"max_features\":[\"log2\",\"sqrt\"],\n",
    "    \"criterion\": [\"friedman_mse\",  \"mae\"],\n",
    "    \"subsample\":[0.7,0.8,0.9],\n",
    "    \"n_estimators\":[10,20,30]\n",
    "    }]\n",
    "gbm = GridSearchCV(GradientBoostingClassifier(), parameters, cv=5, n_jobs=-1,scoring='f1', verbose=True)\n",
    "gbm.fit(X_train,y_train)"
   ]
  },
  {
   "cell_type": "code",
   "execution_count": null,
   "metadata": {
    "id": "PPoIG8iTMF3p"
   },
   "outputs": [],
   "source": [
    "print(gbm.best_params_)\n"
   ]
  },
  {
   "cell_type": "code",
   "execution_count": null,
   "metadata": {
    "id": "nXkmJXgjMF6R"
   },
   "outputs": [],
   "source": [
    "# Gradient boosting with best parameters\n",
    "gs_gbm = GradientBoostingClassifier( \n",
    "    criterion='friedman_mse',\n",
    "    learning_rate=0.2,\n",
    "    loss='deviance',\n",
    "    max_depth=10,\n",
    "    max_features='sqrt',\n",
    "    min_samples_leaf= 0.0001,\n",
    "    min_samples_split= 0.1,\n",
    "    n_estimators = 30,\n",
    "    subsample = 0.7\n",
    ")\n",
    "gs_gbm.fit(X_train, y_train)\n",
    "gs_gbm.score(X_test,y_test)"
   ]
  },
  {
   "cell_type": "markdown",
   "metadata": {
    "id": "lmNqLA9R3xai"
   },
   "source": [
    "### Stochastic gradient descent"
   ]
  },
  {
   "cell_type": "code",
   "execution_count": null,
   "metadata": {
    "id": "CGDsCmFqMF9Q"
   },
   "outputs": [],
   "source": [
    "parameters = [{\n",
    "    \"max_iter\": [100,200,300],\n",
    "    \"loss\": [\"hinge\",\"log\",\"squared_hinge\",\"perceptron\"],\n",
    "    \"penalty\": [\"elasticnet\", \"l1\", \"l2\"],\n",
    "    \"alpha\": [0.0001, 0.001, 0.01, 0.1], \n",
    "    \"learning_rate\": ['constant', 'optimal', 'invscaling', 'adaptive'],\n",
    "    \"class_weight\": [{1:0.5, 0:0.5}, {1:0.4, 0:0.6}, {1:0.6, 0:0.4}, {1:0.7, 0:0.3}],\n",
    "    \"eta0\": [1, 10] \n",
    "             }]\n",
    "sgd = GridSearchCV(SGDClassifier(), parameters, cv=5, n_jobs=-1,scoring='f1', verbose=True)\n",
    "sgd.fit(X_train,y_train)"
   ]
  },
  {
   "cell_type": "code",
   "execution_count": null,
   "metadata": {
    "id": "0g_7t0fjMF_v"
   },
   "outputs": [],
   "source": [
    "print(sgd.best_params_)\n"
   ]
  },
  {
   "cell_type": "code",
   "execution_count": null,
   "metadata": {
    "id": "mSMB_9xPMGCr"
   },
   "outputs": [],
   "source": [
    "# Stochastic gradient descent with best parameters\n",
    "gs_sgd = SGDClassifier(alpha =0.001, \n",
    "                       class_weight ={1: 0.7, 0: 0.3}, \n",
    "                       eta0 =10, \n",
    "                       learning_rate = 'adaptive', \n",
    "                       loss= 'perceptron', \n",
    "                       max_iter=300, \n",
    "                       penalty= 'elasticnet')\n",
    "gs_sgd.fit(X_train, y_train)\n",
    "gs_sgd.score(X_test,y_test)"
   ]
  },
  {
   "cell_type": "markdown",
   "metadata": {
    "id": "OaFEKwKh33t9"
   },
   "source": [
    "### Random Forest"
   ]
  },
  {
   "cell_type": "code",
   "execution_count": null,
   "metadata": {
    "id": "4u306aj5MGGf"
   },
   "outputs": [],
   "source": [
    "parameters = [{\n",
    "    \"criterion\": [\"gini\",  \"entropy\"],\n",
    "    \"n_estimators\": [200,400,600,800,1000],\n",
    "    \"max_features\": ['auto', 'sqrt'],\n",
    "    \"max_depth\": [5, 50, 100],\n",
    "    \"min_samples_split\": [5,10,15,20,25,30], \n",
    "    \"min_samples_leaf\": [1,5,10,15,20],\n",
    "    \"bootstrap\": [True, False]\n",
    "             }]\n",
    "\n",
    "rf = GridSearchCV(RandomForestClassifier(), \n",
    "                  parameters, \n",
    "                  cv=5, \n",
    "                  n_jobs=-1,\n",
    "                  scoring='f1', \n",
    "                  verbose=True)\n",
    "\n",
    "rf.fit(X_train,y_train)"
   ]
  },
  {
   "cell_type": "code",
   "execution_count": null,
   "metadata": {
    "id": "9-T5TBrKMQmN"
   },
   "outputs": [],
   "source": [
    "print(rf.best_params_)"
   ]
  },
  {
   "cell_type": "code",
   "execution_count": null,
   "metadata": {
    "id": "Jw5ts-1wMQo-"
   },
   "outputs": [],
   "source": [
    "# Random forest with best parameters\n",
    "gs_rf = RandomForestClassifier(bootstrap=False,\n",
    "                               criterion='entropy',\n",
    "                               max_depth= 100, \n",
    "                               max_features='sqrt', \n",
    "                               min_samples_leaf=1, \n",
    "                               min_samples_split=25, \n",
    "                               n_estimators=800)\n",
    "gs_rf.fit(X_train, y_train)\n",
    "gs_rf.score(X_test,y_test)"
   ]
  },
  {
   "cell_type": "markdown",
   "metadata": {
    "id": "WnG1lGLn379-"
   },
   "source": [
    "### Decision tree"
   ]
  },
  {
   "cell_type": "code",
   "execution_count": null,
   "metadata": {
    "id": "IijW3C0KMQsI"
   },
   "outputs": [],
   "source": [
    "parameters = [{\n",
    "    \"criterion\": ['gini','entropy'],\n",
    "    \"max_depth\": range(1,10),\n",
    "    \"min_samples_split\": range(1,10), \n",
    "    \"min_samples_leaf\": [1,2,5,10],\n",
    "             }]\n",
    "\n",
    "dt = GridSearchCV(DecisionTreeClassifier(),\n",
    "                  parameters, \n",
    "                  cv=5, n_jobs=-1,\n",
    "                  scoring='f1', \n",
    "                  verbose=True)\n",
    "\n",
    "dt.fit(X_train,y_train)"
   ]
  },
  {
   "cell_type": "code",
   "execution_count": null,
   "metadata": {
    "id": "z0sJmYftMQvc"
   },
   "outputs": [],
   "source": [
    "print(dt.best_params_)\n"
   ]
  },
  {
   "cell_type": "code",
   "execution_count": null,
   "metadata": {
    "id": "W0zPZXBVMa-T"
   },
   "outputs": [],
   "source": [
    "# Decision Tree with best parameters\n",
    "gs_dt = DecisionTreeClassifier(criterion='gini', \n",
    "                               max_depth= 6, \n",
    "                               min_samples_leaf=1, \n",
    "                               min_samples_split=2,)\n",
    "gs_dt.fit(X_train, y_train)\n",
    "gs_dt.score(X_test,y_test)"
   ]
  },
  {
   "cell_type": "code",
   "execution_count": null,
   "metadata": {
    "id": "LFOIWlNS4IsY"
   },
   "outputs": [],
   "source": []
  },
  {
   "cell_type": "markdown",
   "metadata": {
    "id": "DnTvVZ2P4JCu"
   },
   "source": [
    "# Ensemble technique to build the model"
   ]
  },
  {
   "cell_type": "code",
   "execution_count": null,
   "metadata": {
    "id": "fYXngnZCMbD6"
   },
   "outputs": [],
   "source": [
    "classifiers = {\n",
    "    \"Gradient Boosting\": gs_gbm,\n",
    "    \"Stochastic Gradient Descent\": gs_sgd,\n",
    "    \"Random Forest\": gs_rf,\n",
    "    \"Decision Tree\": gs_dt\n",
    "}\n",
    "\n",
    "f, axes = plt.subplots(1, 4, figsize=(20, 5), sharey='row')\n",
    "\n",
    "for i, (key, classifier) in enumerate(classifiers.items()):\n",
    "    y_pred = classifier.fit(X_train, y_train).predict(X_test)\n",
    "    cf_matrix = confusion_matrix(y_test, y_pred)\n",
    "    print(\"\\n\",key, \" \\n Accuracy:\",accuracy_score(y_test,y_pred),\"\\n F-score\",f1_score(y_test,y_pred))\n",
    "    disp = ConfusionMatrixDisplay(cf_matrix,\n",
    "                                  display_labels=[\"Not Purchased\",\"Purchased\"])\n",
    "    disp.plot(ax=axes[i], xticks_rotation=45)\n",
    "    disp.ax_.set_title(key)\n",
    "    disp.im_.colorbar.remove()\n",
    "    disp.ax_.set_xlabel('')\n",
    "    if i!=0:\n",
    "        disp.ax_.set_ylabel('')\n",
    "\n",
    "f.text(0.4, 0.1, 'Predicted label', ha='left')\n",
    "plt.subplots_adjust(wspace=0.40, hspace=0.1)\n",
    "\n",
    "\n",
    "f.colorbar(disp.im_, ax=axes)\n",
    "plt.show()"
   ]
  },
  {
   "cell_type": "code",
   "execution_count": null,
   "metadata": {
    "id": "hRUmnMLdMigt"
   },
   "outputs": [],
   "source": [
    "### combining the best performing models by ensemble voting technique"
   ]
  },
  {
   "cell_type": "code",
   "execution_count": null,
   "metadata": {
    "id": "ndk-vN72Mijy"
   },
   "outputs": [],
   "source": [
    "# Combination of the three best models\n",
    "estimators=[('Random Forest',gs_rf),('Decision Tree',gs_dt),('Stochastic Gradient Descent',gs_sgd)]\n",
    "ensemble = VotingClassifier(estimators, voting='hard')\n",
    "ensemble.fit(X_train, y_train)\n",
    "y_pred = ensemble.fit(X_train, y_train).predict(X_test)\n",
    "print(\" Accuracy : \",accuracy_score(y_test,y_pred),\"\\n F-score\",f1_score(y_test,y_pred))"
   ]
  },
  {
   "cell_type": "code",
   "execution_count": null,
   "metadata": {
    "id": "px8mlPch4qpi"
   },
   "outputs": [],
   "source": []
  },
  {
   "cell_type": "code",
   "execution_count": null,
   "metadata": {
    "id": "I9IenHQGMbHC"
   },
   "outputs": [],
   "source": []
  },
  {
   "cell_type": "markdown",
   "metadata": {
    "id": "0GBSL83j4rT_"
   },
   "source": [
    "# Exporting the model files"
   ]
  },
  {
   "cell_type": "code",
   "execution_count": null,
   "metadata": {
    "id": "pUCuDztYMbKe"
   },
   "outputs": [],
   "source": [
    "# combined model\n",
    "pickle.dump(ensemble, open('Flask_restful_api/model.pickle', 'wb'))\n",
    "\n",
    "# scaled df of X train and test\n",
    "pickle.dump(scalar, open('Flask_restful_api/scaler.pickle','wb'))\n"
   ]
  }
 ],
 "metadata": {
  "colab": {
   "name": "healthcare_lab.ipynb",
   "provenance": []
  },
  "kernelspec": {
   "display_name": "Python 3",
   "language": "python",
   "name": "python3"
  },
  "language_info": {
   "codemirror_mode": {
    "name": "ipython",
    "version": 3
   },
   "file_extension": ".py",
   "mimetype": "text/x-python",
   "name": "python",
   "nbconvert_exporter": "python",
   "pygments_lexer": "ipython3",
   "version": "3.8.8"
  }
 },
 "nbformat": 4,
 "nbformat_minor": 1
}
